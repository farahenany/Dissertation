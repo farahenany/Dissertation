{
  "nbformat": 4,
  "nbformat_minor": 0,
  "metadata": {
    "colab": {
      "name": "Discriminant Analysis for UK .ipynb",
      "provenance": [],
      "collapsed_sections": [],
      "authorship_tag": "ABX9TyO0krPARvBMVBqM+rDxTTlv",
      "include_colab_link": true
    },
    "kernelspec": {
      "name": "python3",
      "display_name": "Python 3"
    },
    "language_info": {
      "name": "python"
    }
  },
  "cells": [
    {
      "cell_type": "markdown",
      "metadata": {
        "id": "view-in-github",
        "colab_type": "text"
      },
      "source": [
        "<a href=\"https://colab.research.google.com/github/farahenany/Dissertation/blob/main/Discriminant_Analysis_for_UK_.ipynb\" target=\"_parent\"><img src=\"https://colab.research.google.com/assets/colab-badge.svg\" alt=\"Open In Colab\"/></a>"
      ]
    },
    {
      "cell_type": "code",
      "execution_count": null,
      "metadata": {
        "id": "706dTRO52gsV"
      },
      "outputs": [],
      "source": [
        "from sklearn.model_selection import train_test_split\n",
        "from sklearn.model_selection import RepeatedStratifiedKFold\n",
        "from sklearn.model_selection import cross_val_score\n",
        "from sklearn.discriminant_analysis import LinearDiscriminantAnalysis \n",
        "from sklearn import datasets\n",
        "import matplotlib.pyplot as plt\n",
        "import pandas as pd\n",
        "import numpy as np"
      ]
    },
    {
      "cell_type": "code",
      "source": [
        "pd.options.display.max_columns = None"
      ],
      "metadata": {
        "id": "78g4scpB5X14"
      },
      "execution_count": null,
      "outputs": []
    },
    {
      "cell_type": "code",
      "source": [
        "from google.colab import drive\n",
        "\n",
        "drive.mount('/content/drive')"
      ],
      "metadata": {
        "colab": {
          "base_uri": "https://localhost:8080/"
        },
        "id": "nyOSHBOS5aFt",
        "outputId": "2707e54a-c9ea-43cf-b933-ffe6bb1e8371"
      },
      "execution_count": null,
      "outputs": [
        {
          "output_type": "stream",
          "name": "stdout",
          "text": [
            "Drive already mounted at /content/drive; to attempt to forcibly remount, call drive.mount(\"/content/drive\", force_remount=True).\n"
          ]
        }
      ]
    },
    {
      "cell_type": "code",
      "source": [
        "customer_base = pd.read_csv(\"drive/MyDrive/Dissertation/Dissertation/customer_retail_bank/Proposition.csv\")\n",
        "customer_base"
      ],
      "metadata": {
        "colab": {
          "base_uri": "https://localhost:8080/",
          "height": 483
        },
        "id": "wKdJBxZnt42M",
        "outputId": "d0e0f9b8-a6da-4041-b5cd-e6bc2971c14b"
      },
      "execution_count": null,
      "outputs": [
        {
          "output_type": "execute_result",
          "data": {
            "text/plain": [
              "        Numcust       TRB  Primary_cust  Digital_cust  CA_holders  \\\n",
              "0      0.070379 -0.243790      0.340697      0.252573   -0.270957   \n",
              "1      0.177381 -0.199371      0.487501      0.381397   -0.270957   \n",
              "2      0.070379 -0.243790      0.340697      0.252573   -0.270957   \n",
              "3      0.070379 -0.243790      0.340697      0.252573   -0.270957   \n",
              "4      0.070379 -0.243790      0.340697      0.252573   -0.270957   \n",
              "...         ...       ...           ...           ...         ...   \n",
              "55291 -0.143626 -0.322757     -0.246518     -0.262722   -0.058875   \n",
              "55292 -0.304130 -0.396788     -0.246518     -0.262722   -0.217937   \n",
              "55293  0.070379 -0.224048     -0.246518     -0.262722    0.153207   \n",
              "55294 -0.143626 -0.322757     -0.246518     -0.262722   -0.058875   \n",
              "55295 -0.036624 -0.273403     -0.246518     -0.262722    0.047166   \n",
              "\n",
              "       Card_holders  Ins_holders  Inv_holders  Mort_holders  Primary  \\\n",
              "0         -0.235752     2.060290    -0.321304     -0.251197        2   \n",
              "1         -0.235752     2.701543    -0.321304     -0.251197        2   \n",
              "2         -0.235752     2.060290    -0.321304     -0.251197        2   \n",
              "3         -0.235752     2.060290    -0.321304      0.298711        2   \n",
              "4         -0.235752     2.060290    -0.321304      0.298711        2   \n",
              "...             ...          ...          ...           ...      ...   \n",
              "55291     -0.007279    -0.504723     0.217131     -0.251197        1   \n",
              "55292     -0.178633    -0.504723    -0.186695     -0.251197        1   \n",
              "55293      0.221195    -0.504723     0.755567      0.298711        1   \n",
              "55294     -0.007279    -0.504723     0.217131      0.023757        1   \n",
              "55295      0.106958    -0.504723     0.486349      0.161234        1   \n",
              "\n",
              "       International  CA  Card  Insurance  Investment  Mortgage  Digital  \\\n",
              "0                  1   1     1          2           1         1        2   \n",
              "1                  1   1     1          2           1         1        2   \n",
              "2                  1   1     1          2           1         1        2   \n",
              "3                  1   1     1          2           1         2        2   \n",
              "4                  1   1     1          2           1         2        2   \n",
              "...              ...  ..   ...        ...         ...       ...      ...   \n",
              "55291              2   2     2          1           2         1        1   \n",
              "55292              2   2     2          1           2         1        1   \n",
              "55293              2   2     2          1           2         2        1   \n",
              "55294              2   2     2          1           2         2        1   \n",
              "55295              2   2     2          1           2         2        1   \n",
              "\n",
              "      Proposition  Tenure Age  NPS  Revenue  \n",
              "0       3. Bronze       2   2    3    12000  \n",
              "1       3. Bronze       2   2    2    15000  \n",
              "2       3. Bronze       2   2    1    12000  \n",
              "3       3. Bronze       2   2    3    12000  \n",
              "4       3. Bronze       2   2    2    12000  \n",
              "...           ...     ...  ..  ...      ...  \n",
              "55291     1. Gold       3   1    2    40000  \n",
              "55292     1. Gold       3   1    1    10000  \n",
              "55293     1. Gold       3   1    3    80000  \n",
              "55294     1. Gold       3   1    2    40000  \n",
              "55295     1. Gold       3   1    1    60000  \n",
              "\n",
              "[55296 rows x 22 columns]"
            ],
            "text/html": [
              "\n",
              "  <div id=\"df-69520059-5dbe-4473-ab02-e668eb8f1098\">\n",
              "    <div class=\"colab-df-container\">\n",
              "      <div>\n",
              "<style scoped>\n",
              "    .dataframe tbody tr th:only-of-type {\n",
              "        vertical-align: middle;\n",
              "    }\n",
              "\n",
              "    .dataframe tbody tr th {\n",
              "        vertical-align: top;\n",
              "    }\n",
              "\n",
              "    .dataframe thead th {\n",
              "        text-align: right;\n",
              "    }\n",
              "</style>\n",
              "<table border=\"1\" class=\"dataframe\">\n",
              "  <thead>\n",
              "    <tr style=\"text-align: right;\">\n",
              "      <th></th>\n",
              "      <th>Numcust</th>\n",
              "      <th>TRB</th>\n",
              "      <th>Primary_cust</th>\n",
              "      <th>Digital_cust</th>\n",
              "      <th>CA_holders</th>\n",
              "      <th>Card_holders</th>\n",
              "      <th>Ins_holders</th>\n",
              "      <th>Inv_holders</th>\n",
              "      <th>Mort_holders</th>\n",
              "      <th>Primary</th>\n",
              "      <th>International</th>\n",
              "      <th>CA</th>\n",
              "      <th>Card</th>\n",
              "      <th>Insurance</th>\n",
              "      <th>Investment</th>\n",
              "      <th>Mortgage</th>\n",
              "      <th>Digital</th>\n",
              "      <th>Proposition</th>\n",
              "      <th>Tenure</th>\n",
              "      <th>Age</th>\n",
              "      <th>NPS</th>\n",
              "      <th>Revenue</th>\n",
              "    </tr>\n",
              "  </thead>\n",
              "  <tbody>\n",
              "    <tr>\n",
              "      <th>0</th>\n",
              "      <td>0.070379</td>\n",
              "      <td>-0.243790</td>\n",
              "      <td>0.340697</td>\n",
              "      <td>0.252573</td>\n",
              "      <td>-0.270957</td>\n",
              "      <td>-0.235752</td>\n",
              "      <td>2.060290</td>\n",
              "      <td>-0.321304</td>\n",
              "      <td>-0.251197</td>\n",
              "      <td>2</td>\n",
              "      <td>1</td>\n",
              "      <td>1</td>\n",
              "      <td>1</td>\n",
              "      <td>2</td>\n",
              "      <td>1</td>\n",
              "      <td>1</td>\n",
              "      <td>2</td>\n",
              "      <td>3. Bronze</td>\n",
              "      <td>2</td>\n",
              "      <td>2</td>\n",
              "      <td>3</td>\n",
              "      <td>12000</td>\n",
              "    </tr>\n",
              "    <tr>\n",
              "      <th>1</th>\n",
              "      <td>0.177381</td>\n",
              "      <td>-0.199371</td>\n",
              "      <td>0.487501</td>\n",
              "      <td>0.381397</td>\n",
              "      <td>-0.270957</td>\n",
              "      <td>-0.235752</td>\n",
              "      <td>2.701543</td>\n",
              "      <td>-0.321304</td>\n",
              "      <td>-0.251197</td>\n",
              "      <td>2</td>\n",
              "      <td>1</td>\n",
              "      <td>1</td>\n",
              "      <td>1</td>\n",
              "      <td>2</td>\n",
              "      <td>1</td>\n",
              "      <td>1</td>\n",
              "      <td>2</td>\n",
              "      <td>3. Bronze</td>\n",
              "      <td>2</td>\n",
              "      <td>2</td>\n",
              "      <td>2</td>\n",
              "      <td>15000</td>\n",
              "    </tr>\n",
              "    <tr>\n",
              "      <th>2</th>\n",
              "      <td>0.070379</td>\n",
              "      <td>-0.243790</td>\n",
              "      <td>0.340697</td>\n",
              "      <td>0.252573</td>\n",
              "      <td>-0.270957</td>\n",
              "      <td>-0.235752</td>\n",
              "      <td>2.060290</td>\n",
              "      <td>-0.321304</td>\n",
              "      <td>-0.251197</td>\n",
              "      <td>2</td>\n",
              "      <td>1</td>\n",
              "      <td>1</td>\n",
              "      <td>1</td>\n",
              "      <td>2</td>\n",
              "      <td>1</td>\n",
              "      <td>1</td>\n",
              "      <td>2</td>\n",
              "      <td>3. Bronze</td>\n",
              "      <td>2</td>\n",
              "      <td>2</td>\n",
              "      <td>1</td>\n",
              "      <td>12000</td>\n",
              "    </tr>\n",
              "    <tr>\n",
              "      <th>3</th>\n",
              "      <td>0.070379</td>\n",
              "      <td>-0.243790</td>\n",
              "      <td>0.340697</td>\n",
              "      <td>0.252573</td>\n",
              "      <td>-0.270957</td>\n",
              "      <td>-0.235752</td>\n",
              "      <td>2.060290</td>\n",
              "      <td>-0.321304</td>\n",
              "      <td>0.298711</td>\n",
              "      <td>2</td>\n",
              "      <td>1</td>\n",
              "      <td>1</td>\n",
              "      <td>1</td>\n",
              "      <td>2</td>\n",
              "      <td>1</td>\n",
              "      <td>2</td>\n",
              "      <td>2</td>\n",
              "      <td>3. Bronze</td>\n",
              "      <td>2</td>\n",
              "      <td>2</td>\n",
              "      <td>3</td>\n",
              "      <td>12000</td>\n",
              "    </tr>\n",
              "    <tr>\n",
              "      <th>4</th>\n",
              "      <td>0.070379</td>\n",
              "      <td>-0.243790</td>\n",
              "      <td>0.340697</td>\n",
              "      <td>0.252573</td>\n",
              "      <td>-0.270957</td>\n",
              "      <td>-0.235752</td>\n",
              "      <td>2.060290</td>\n",
              "      <td>-0.321304</td>\n",
              "      <td>0.298711</td>\n",
              "      <td>2</td>\n",
              "      <td>1</td>\n",
              "      <td>1</td>\n",
              "      <td>1</td>\n",
              "      <td>2</td>\n",
              "      <td>1</td>\n",
              "      <td>2</td>\n",
              "      <td>2</td>\n",
              "      <td>3. Bronze</td>\n",
              "      <td>2</td>\n",
              "      <td>2</td>\n",
              "      <td>2</td>\n",
              "      <td>12000</td>\n",
              "    </tr>\n",
              "    <tr>\n",
              "      <th>...</th>\n",
              "      <td>...</td>\n",
              "      <td>...</td>\n",
              "      <td>...</td>\n",
              "      <td>...</td>\n",
              "      <td>...</td>\n",
              "      <td>...</td>\n",
              "      <td>...</td>\n",
              "      <td>...</td>\n",
              "      <td>...</td>\n",
              "      <td>...</td>\n",
              "      <td>...</td>\n",
              "      <td>...</td>\n",
              "      <td>...</td>\n",
              "      <td>...</td>\n",
              "      <td>...</td>\n",
              "      <td>...</td>\n",
              "      <td>...</td>\n",
              "      <td>...</td>\n",
              "      <td>...</td>\n",
              "      <td>...</td>\n",
              "      <td>...</td>\n",
              "      <td>...</td>\n",
              "    </tr>\n",
              "    <tr>\n",
              "      <th>55291</th>\n",
              "      <td>-0.143626</td>\n",
              "      <td>-0.322757</td>\n",
              "      <td>-0.246518</td>\n",
              "      <td>-0.262722</td>\n",
              "      <td>-0.058875</td>\n",
              "      <td>-0.007279</td>\n",
              "      <td>-0.504723</td>\n",
              "      <td>0.217131</td>\n",
              "      <td>-0.251197</td>\n",
              "      <td>1</td>\n",
              "      <td>2</td>\n",
              "      <td>2</td>\n",
              "      <td>2</td>\n",
              "      <td>1</td>\n",
              "      <td>2</td>\n",
              "      <td>1</td>\n",
              "      <td>1</td>\n",
              "      <td>1. Gold</td>\n",
              "      <td>3</td>\n",
              "      <td>1</td>\n",
              "      <td>2</td>\n",
              "      <td>40000</td>\n",
              "    </tr>\n",
              "    <tr>\n",
              "      <th>55292</th>\n",
              "      <td>-0.304130</td>\n",
              "      <td>-0.396788</td>\n",
              "      <td>-0.246518</td>\n",
              "      <td>-0.262722</td>\n",
              "      <td>-0.217937</td>\n",
              "      <td>-0.178633</td>\n",
              "      <td>-0.504723</td>\n",
              "      <td>-0.186695</td>\n",
              "      <td>-0.251197</td>\n",
              "      <td>1</td>\n",
              "      <td>2</td>\n",
              "      <td>2</td>\n",
              "      <td>2</td>\n",
              "      <td>1</td>\n",
              "      <td>2</td>\n",
              "      <td>1</td>\n",
              "      <td>1</td>\n",
              "      <td>1. Gold</td>\n",
              "      <td>3</td>\n",
              "      <td>1</td>\n",
              "      <td>1</td>\n",
              "      <td>10000</td>\n",
              "    </tr>\n",
              "    <tr>\n",
              "      <th>55293</th>\n",
              "      <td>0.070379</td>\n",
              "      <td>-0.224048</td>\n",
              "      <td>-0.246518</td>\n",
              "      <td>-0.262722</td>\n",
              "      <td>0.153207</td>\n",
              "      <td>0.221195</td>\n",
              "      <td>-0.504723</td>\n",
              "      <td>0.755567</td>\n",
              "      <td>0.298711</td>\n",
              "      <td>1</td>\n",
              "      <td>2</td>\n",
              "      <td>2</td>\n",
              "      <td>2</td>\n",
              "      <td>1</td>\n",
              "      <td>2</td>\n",
              "      <td>2</td>\n",
              "      <td>1</td>\n",
              "      <td>1. Gold</td>\n",
              "      <td>3</td>\n",
              "      <td>1</td>\n",
              "      <td>3</td>\n",
              "      <td>80000</td>\n",
              "    </tr>\n",
              "    <tr>\n",
              "      <th>55294</th>\n",
              "      <td>-0.143626</td>\n",
              "      <td>-0.322757</td>\n",
              "      <td>-0.246518</td>\n",
              "      <td>-0.262722</td>\n",
              "      <td>-0.058875</td>\n",
              "      <td>-0.007279</td>\n",
              "      <td>-0.504723</td>\n",
              "      <td>0.217131</td>\n",
              "      <td>0.023757</td>\n",
              "      <td>1</td>\n",
              "      <td>2</td>\n",
              "      <td>2</td>\n",
              "      <td>2</td>\n",
              "      <td>1</td>\n",
              "      <td>2</td>\n",
              "      <td>2</td>\n",
              "      <td>1</td>\n",
              "      <td>1. Gold</td>\n",
              "      <td>3</td>\n",
              "      <td>1</td>\n",
              "      <td>2</td>\n",
              "      <td>40000</td>\n",
              "    </tr>\n",
              "    <tr>\n",
              "      <th>55295</th>\n",
              "      <td>-0.036624</td>\n",
              "      <td>-0.273403</td>\n",
              "      <td>-0.246518</td>\n",
              "      <td>-0.262722</td>\n",
              "      <td>0.047166</td>\n",
              "      <td>0.106958</td>\n",
              "      <td>-0.504723</td>\n",
              "      <td>0.486349</td>\n",
              "      <td>0.161234</td>\n",
              "      <td>1</td>\n",
              "      <td>2</td>\n",
              "      <td>2</td>\n",
              "      <td>2</td>\n",
              "      <td>1</td>\n",
              "      <td>2</td>\n",
              "      <td>2</td>\n",
              "      <td>1</td>\n",
              "      <td>1. Gold</td>\n",
              "      <td>3</td>\n",
              "      <td>1</td>\n",
              "      <td>1</td>\n",
              "      <td>60000</td>\n",
              "    </tr>\n",
              "  </tbody>\n",
              "</table>\n",
              "<p>55296 rows × 22 columns</p>\n",
              "</div>\n",
              "      <button class=\"colab-df-convert\" onclick=\"convertToInteractive('df-69520059-5dbe-4473-ab02-e668eb8f1098')\"\n",
              "              title=\"Convert this dataframe to an interactive table.\"\n",
              "              style=\"display:none;\">\n",
              "        \n",
              "  <svg xmlns=\"http://www.w3.org/2000/svg\" height=\"24px\"viewBox=\"0 0 24 24\"\n",
              "       width=\"24px\">\n",
              "    <path d=\"M0 0h24v24H0V0z\" fill=\"none\"/>\n",
              "    <path d=\"M18.56 5.44l.94 2.06.94-2.06 2.06-.94-2.06-.94-.94-2.06-.94 2.06-2.06.94zm-11 1L8.5 8.5l.94-2.06 2.06-.94-2.06-.94L8.5 2.5l-.94 2.06-2.06.94zm10 10l.94 2.06.94-2.06 2.06-.94-2.06-.94-.94-2.06-.94 2.06-2.06.94z\"/><path d=\"M17.41 7.96l-1.37-1.37c-.4-.4-.92-.59-1.43-.59-.52 0-1.04.2-1.43.59L10.3 9.45l-7.72 7.72c-.78.78-.78 2.05 0 2.83L4 21.41c.39.39.9.59 1.41.59.51 0 1.02-.2 1.41-.59l7.78-7.78 2.81-2.81c.8-.78.8-2.07 0-2.86zM5.41 20L4 18.59l7.72-7.72 1.47 1.35L5.41 20z\"/>\n",
              "  </svg>\n",
              "      </button>\n",
              "      \n",
              "  <style>\n",
              "    .colab-df-container {\n",
              "      display:flex;\n",
              "      flex-wrap:wrap;\n",
              "      gap: 12px;\n",
              "    }\n",
              "\n",
              "    .colab-df-convert {\n",
              "      background-color: #E8F0FE;\n",
              "      border: none;\n",
              "      border-radius: 50%;\n",
              "      cursor: pointer;\n",
              "      display: none;\n",
              "      fill: #1967D2;\n",
              "      height: 32px;\n",
              "      padding: 0 0 0 0;\n",
              "      width: 32px;\n",
              "    }\n",
              "\n",
              "    .colab-df-convert:hover {\n",
              "      background-color: #E2EBFA;\n",
              "      box-shadow: 0px 1px 2px rgba(60, 64, 67, 0.3), 0px 1px 3px 1px rgba(60, 64, 67, 0.15);\n",
              "      fill: #174EA6;\n",
              "    }\n",
              "\n",
              "    [theme=dark] .colab-df-convert {\n",
              "      background-color: #3B4455;\n",
              "      fill: #D2E3FC;\n",
              "    }\n",
              "\n",
              "    [theme=dark] .colab-df-convert:hover {\n",
              "      background-color: #434B5C;\n",
              "      box-shadow: 0px 1px 3px 1px rgba(0, 0, 0, 0.15);\n",
              "      filter: drop-shadow(0px 1px 2px rgba(0, 0, 0, 0.3));\n",
              "      fill: #FFFFFF;\n",
              "    }\n",
              "  </style>\n",
              "\n",
              "      <script>\n",
              "        const buttonEl =\n",
              "          document.querySelector('#df-69520059-5dbe-4473-ab02-e668eb8f1098 button.colab-df-convert');\n",
              "        buttonEl.style.display =\n",
              "          google.colab.kernel.accessAllowed ? 'block' : 'none';\n",
              "\n",
              "        async function convertToInteractive(key) {\n",
              "          const element = document.querySelector('#df-69520059-5dbe-4473-ab02-e668eb8f1098');\n",
              "          const dataTable =\n",
              "            await google.colab.kernel.invokeFunction('convertToInteractive',\n",
              "                                                     [key], {});\n",
              "          if (!dataTable) return;\n",
              "\n",
              "          const docLinkHtml = 'Like what you see? Visit the ' +\n",
              "            '<a target=\"_blank\" href=https://colab.research.google.com/notebooks/data_table.ipynb>data table notebook</a>'\n",
              "            + ' to learn more about interactive tables.';\n",
              "          element.innerHTML = '';\n",
              "          dataTable['output_type'] = 'display_data';\n",
              "          await google.colab.output.renderOutput(dataTable, element);\n",
              "          const docLink = document.createElement('div');\n",
              "          docLink.innerHTML = docLinkHtml;\n",
              "          element.appendChild(docLink);\n",
              "        }\n",
              "      </script>\n",
              "    </div>\n",
              "  </div>\n",
              "  "
            ]
          },
          "metadata": {},
          "execution_count": 4
        }
      ]
    },
    {
      "cell_type": "code",
      "source": [
        "customer_base"
      ],
      "metadata": {
        "colab": {
          "base_uri": "https://localhost:8080/",
          "height": 483
        },
        "id": "bbEsDDBzxhI7",
        "outputId": "1a20fa4c-325c-4123-dedb-9acc32bd80bc"
      },
      "execution_count": null,
      "outputs": [
        {
          "output_type": "execute_result",
          "data": {
            "text/plain": [
              "        Numcust       TRB  Primary_cust  Digital_cust  CA_holders  \\\n",
              "0      0.070379 -0.243790      0.340697      0.252573   -0.270957   \n",
              "1      0.177381 -0.199371      0.487501      0.381397   -0.270957   \n",
              "2      0.070379 -0.243790      0.340697      0.252573   -0.270957   \n",
              "3      0.070379 -0.243790      0.340697      0.252573   -0.270957   \n",
              "4      0.070379 -0.243790      0.340697      0.252573   -0.270957   \n",
              "...         ...       ...           ...           ...         ...   \n",
              "55291 -0.143626 -0.322757     -0.246518     -0.262722   -0.058875   \n",
              "55292 -0.304130 -0.396788     -0.246518     -0.262722   -0.217937   \n",
              "55293  0.070379 -0.224048     -0.246518     -0.262722    0.153207   \n",
              "55294 -0.143626 -0.322757     -0.246518     -0.262722   -0.058875   \n",
              "55295 -0.036624 -0.273403     -0.246518     -0.262722    0.047166   \n",
              "\n",
              "       Card_holders  Ins_holders  Inv_holders  Mort_holders  Primary  \\\n",
              "0         -0.235752     2.060290    -0.321304     -0.251197        2   \n",
              "1         -0.235752     2.701543    -0.321304     -0.251197        2   \n",
              "2         -0.235752     2.060290    -0.321304     -0.251197        2   \n",
              "3         -0.235752     2.060290    -0.321304      0.298711        2   \n",
              "4         -0.235752     2.060290    -0.321304      0.298711        2   \n",
              "...             ...          ...          ...           ...      ...   \n",
              "55291     -0.007279    -0.504723     0.217131     -0.251197        1   \n",
              "55292     -0.178633    -0.504723    -0.186695     -0.251197        1   \n",
              "55293      0.221195    -0.504723     0.755567      0.298711        1   \n",
              "55294     -0.007279    -0.504723     0.217131      0.023757        1   \n",
              "55295      0.106958    -0.504723     0.486349      0.161234        1   \n",
              "\n",
              "       International  CA  Card  Insurance  Investment  Mortgage  Digital  \\\n",
              "0                  1   1     1          2           1         1        2   \n",
              "1                  1   1     1          2           1         1        2   \n",
              "2                  1   1     1          2           1         1        2   \n",
              "3                  1   1     1          2           1         2        2   \n",
              "4                  1   1     1          2           1         2        2   \n",
              "...              ...  ..   ...        ...         ...       ...      ...   \n",
              "55291              2   2     2          1           2         1        1   \n",
              "55292              2   2     2          1           2         1        1   \n",
              "55293              2   2     2          1           2         2        1   \n",
              "55294              2   2     2          1           2         2        1   \n",
              "55295              2   2     2          1           2         2        1   \n",
              "\n",
              "      Proposition  Tenure Age  NPS  Revenue  \n",
              "0       3. Bronze       2   2    3    12000  \n",
              "1       3. Bronze       2   2    2    15000  \n",
              "2       3. Bronze       2   2    1    12000  \n",
              "3       3. Bronze       2   2    3    12000  \n",
              "4       3. Bronze       2   2    2    12000  \n",
              "...           ...     ...  ..  ...      ...  \n",
              "55291     1. Gold       3   1    2    40000  \n",
              "55292     1. Gold       3   1    1    10000  \n",
              "55293     1. Gold       3   1    3    80000  \n",
              "55294     1. Gold       3   1    2    40000  \n",
              "55295     1. Gold       3   1    1    60000  \n",
              "\n",
              "[55296 rows x 22 columns]"
            ],
            "text/html": [
              "\n",
              "  <div id=\"df-daa12ee9-a846-4157-ae8f-90a3fe046f0a\">\n",
              "    <div class=\"colab-df-container\">\n",
              "      <div>\n",
              "<style scoped>\n",
              "    .dataframe tbody tr th:only-of-type {\n",
              "        vertical-align: middle;\n",
              "    }\n",
              "\n",
              "    .dataframe tbody tr th {\n",
              "        vertical-align: top;\n",
              "    }\n",
              "\n",
              "    .dataframe thead th {\n",
              "        text-align: right;\n",
              "    }\n",
              "</style>\n",
              "<table border=\"1\" class=\"dataframe\">\n",
              "  <thead>\n",
              "    <tr style=\"text-align: right;\">\n",
              "      <th></th>\n",
              "      <th>Numcust</th>\n",
              "      <th>TRB</th>\n",
              "      <th>Primary_cust</th>\n",
              "      <th>Digital_cust</th>\n",
              "      <th>CA_holders</th>\n",
              "      <th>Card_holders</th>\n",
              "      <th>Ins_holders</th>\n",
              "      <th>Inv_holders</th>\n",
              "      <th>Mort_holders</th>\n",
              "      <th>Primary</th>\n",
              "      <th>International</th>\n",
              "      <th>CA</th>\n",
              "      <th>Card</th>\n",
              "      <th>Insurance</th>\n",
              "      <th>Investment</th>\n",
              "      <th>Mortgage</th>\n",
              "      <th>Digital</th>\n",
              "      <th>Proposition</th>\n",
              "      <th>Tenure</th>\n",
              "      <th>Age</th>\n",
              "      <th>NPS</th>\n",
              "      <th>Revenue</th>\n",
              "    </tr>\n",
              "  </thead>\n",
              "  <tbody>\n",
              "    <tr>\n",
              "      <th>0</th>\n",
              "      <td>0.070379</td>\n",
              "      <td>-0.243790</td>\n",
              "      <td>0.340697</td>\n",
              "      <td>0.252573</td>\n",
              "      <td>-0.270957</td>\n",
              "      <td>-0.235752</td>\n",
              "      <td>2.060290</td>\n",
              "      <td>-0.321304</td>\n",
              "      <td>-0.251197</td>\n",
              "      <td>2</td>\n",
              "      <td>1</td>\n",
              "      <td>1</td>\n",
              "      <td>1</td>\n",
              "      <td>2</td>\n",
              "      <td>1</td>\n",
              "      <td>1</td>\n",
              "      <td>2</td>\n",
              "      <td>3. Bronze</td>\n",
              "      <td>2</td>\n",
              "      <td>2</td>\n",
              "      <td>3</td>\n",
              "      <td>12000</td>\n",
              "    </tr>\n",
              "    <tr>\n",
              "      <th>1</th>\n",
              "      <td>0.177381</td>\n",
              "      <td>-0.199371</td>\n",
              "      <td>0.487501</td>\n",
              "      <td>0.381397</td>\n",
              "      <td>-0.270957</td>\n",
              "      <td>-0.235752</td>\n",
              "      <td>2.701543</td>\n",
              "      <td>-0.321304</td>\n",
              "      <td>-0.251197</td>\n",
              "      <td>2</td>\n",
              "      <td>1</td>\n",
              "      <td>1</td>\n",
              "      <td>1</td>\n",
              "      <td>2</td>\n",
              "      <td>1</td>\n",
              "      <td>1</td>\n",
              "      <td>2</td>\n",
              "      <td>3. Bronze</td>\n",
              "      <td>2</td>\n",
              "      <td>2</td>\n",
              "      <td>2</td>\n",
              "      <td>15000</td>\n",
              "    </tr>\n",
              "    <tr>\n",
              "      <th>2</th>\n",
              "      <td>0.070379</td>\n",
              "      <td>-0.243790</td>\n",
              "      <td>0.340697</td>\n",
              "      <td>0.252573</td>\n",
              "      <td>-0.270957</td>\n",
              "      <td>-0.235752</td>\n",
              "      <td>2.060290</td>\n",
              "      <td>-0.321304</td>\n",
              "      <td>-0.251197</td>\n",
              "      <td>2</td>\n",
              "      <td>1</td>\n",
              "      <td>1</td>\n",
              "      <td>1</td>\n",
              "      <td>2</td>\n",
              "      <td>1</td>\n",
              "      <td>1</td>\n",
              "      <td>2</td>\n",
              "      <td>3. Bronze</td>\n",
              "      <td>2</td>\n",
              "      <td>2</td>\n",
              "      <td>1</td>\n",
              "      <td>12000</td>\n",
              "    </tr>\n",
              "    <tr>\n",
              "      <th>3</th>\n",
              "      <td>0.070379</td>\n",
              "      <td>-0.243790</td>\n",
              "      <td>0.340697</td>\n",
              "      <td>0.252573</td>\n",
              "      <td>-0.270957</td>\n",
              "      <td>-0.235752</td>\n",
              "      <td>2.060290</td>\n",
              "      <td>-0.321304</td>\n",
              "      <td>0.298711</td>\n",
              "      <td>2</td>\n",
              "      <td>1</td>\n",
              "      <td>1</td>\n",
              "      <td>1</td>\n",
              "      <td>2</td>\n",
              "      <td>1</td>\n",
              "      <td>2</td>\n",
              "      <td>2</td>\n",
              "      <td>3. Bronze</td>\n",
              "      <td>2</td>\n",
              "      <td>2</td>\n",
              "      <td>3</td>\n",
              "      <td>12000</td>\n",
              "    </tr>\n",
              "    <tr>\n",
              "      <th>4</th>\n",
              "      <td>0.070379</td>\n",
              "      <td>-0.243790</td>\n",
              "      <td>0.340697</td>\n",
              "      <td>0.252573</td>\n",
              "      <td>-0.270957</td>\n",
              "      <td>-0.235752</td>\n",
              "      <td>2.060290</td>\n",
              "      <td>-0.321304</td>\n",
              "      <td>0.298711</td>\n",
              "      <td>2</td>\n",
              "      <td>1</td>\n",
              "      <td>1</td>\n",
              "      <td>1</td>\n",
              "      <td>2</td>\n",
              "      <td>1</td>\n",
              "      <td>2</td>\n",
              "      <td>2</td>\n",
              "      <td>3. Bronze</td>\n",
              "      <td>2</td>\n",
              "      <td>2</td>\n",
              "      <td>2</td>\n",
              "      <td>12000</td>\n",
              "    </tr>\n",
              "    <tr>\n",
              "      <th>...</th>\n",
              "      <td>...</td>\n",
              "      <td>...</td>\n",
              "      <td>...</td>\n",
              "      <td>...</td>\n",
              "      <td>...</td>\n",
              "      <td>...</td>\n",
              "      <td>...</td>\n",
              "      <td>...</td>\n",
              "      <td>...</td>\n",
              "      <td>...</td>\n",
              "      <td>...</td>\n",
              "      <td>...</td>\n",
              "      <td>...</td>\n",
              "      <td>...</td>\n",
              "      <td>...</td>\n",
              "      <td>...</td>\n",
              "      <td>...</td>\n",
              "      <td>...</td>\n",
              "      <td>...</td>\n",
              "      <td>...</td>\n",
              "      <td>...</td>\n",
              "      <td>...</td>\n",
              "    </tr>\n",
              "    <tr>\n",
              "      <th>55291</th>\n",
              "      <td>-0.143626</td>\n",
              "      <td>-0.322757</td>\n",
              "      <td>-0.246518</td>\n",
              "      <td>-0.262722</td>\n",
              "      <td>-0.058875</td>\n",
              "      <td>-0.007279</td>\n",
              "      <td>-0.504723</td>\n",
              "      <td>0.217131</td>\n",
              "      <td>-0.251197</td>\n",
              "      <td>1</td>\n",
              "      <td>2</td>\n",
              "      <td>2</td>\n",
              "      <td>2</td>\n",
              "      <td>1</td>\n",
              "      <td>2</td>\n",
              "      <td>1</td>\n",
              "      <td>1</td>\n",
              "      <td>1. Gold</td>\n",
              "      <td>3</td>\n",
              "      <td>1</td>\n",
              "      <td>2</td>\n",
              "      <td>40000</td>\n",
              "    </tr>\n",
              "    <tr>\n",
              "      <th>55292</th>\n",
              "      <td>-0.304130</td>\n",
              "      <td>-0.396788</td>\n",
              "      <td>-0.246518</td>\n",
              "      <td>-0.262722</td>\n",
              "      <td>-0.217937</td>\n",
              "      <td>-0.178633</td>\n",
              "      <td>-0.504723</td>\n",
              "      <td>-0.186695</td>\n",
              "      <td>-0.251197</td>\n",
              "      <td>1</td>\n",
              "      <td>2</td>\n",
              "      <td>2</td>\n",
              "      <td>2</td>\n",
              "      <td>1</td>\n",
              "      <td>2</td>\n",
              "      <td>1</td>\n",
              "      <td>1</td>\n",
              "      <td>1. Gold</td>\n",
              "      <td>3</td>\n",
              "      <td>1</td>\n",
              "      <td>1</td>\n",
              "      <td>10000</td>\n",
              "    </tr>\n",
              "    <tr>\n",
              "      <th>55293</th>\n",
              "      <td>0.070379</td>\n",
              "      <td>-0.224048</td>\n",
              "      <td>-0.246518</td>\n",
              "      <td>-0.262722</td>\n",
              "      <td>0.153207</td>\n",
              "      <td>0.221195</td>\n",
              "      <td>-0.504723</td>\n",
              "      <td>0.755567</td>\n",
              "      <td>0.298711</td>\n",
              "      <td>1</td>\n",
              "      <td>2</td>\n",
              "      <td>2</td>\n",
              "      <td>2</td>\n",
              "      <td>1</td>\n",
              "      <td>2</td>\n",
              "      <td>2</td>\n",
              "      <td>1</td>\n",
              "      <td>1. Gold</td>\n",
              "      <td>3</td>\n",
              "      <td>1</td>\n",
              "      <td>3</td>\n",
              "      <td>80000</td>\n",
              "    </tr>\n",
              "    <tr>\n",
              "      <th>55294</th>\n",
              "      <td>-0.143626</td>\n",
              "      <td>-0.322757</td>\n",
              "      <td>-0.246518</td>\n",
              "      <td>-0.262722</td>\n",
              "      <td>-0.058875</td>\n",
              "      <td>-0.007279</td>\n",
              "      <td>-0.504723</td>\n",
              "      <td>0.217131</td>\n",
              "      <td>0.023757</td>\n",
              "      <td>1</td>\n",
              "      <td>2</td>\n",
              "      <td>2</td>\n",
              "      <td>2</td>\n",
              "      <td>1</td>\n",
              "      <td>2</td>\n",
              "      <td>2</td>\n",
              "      <td>1</td>\n",
              "      <td>1. Gold</td>\n",
              "      <td>3</td>\n",
              "      <td>1</td>\n",
              "      <td>2</td>\n",
              "      <td>40000</td>\n",
              "    </tr>\n",
              "    <tr>\n",
              "      <th>55295</th>\n",
              "      <td>-0.036624</td>\n",
              "      <td>-0.273403</td>\n",
              "      <td>-0.246518</td>\n",
              "      <td>-0.262722</td>\n",
              "      <td>0.047166</td>\n",
              "      <td>0.106958</td>\n",
              "      <td>-0.504723</td>\n",
              "      <td>0.486349</td>\n",
              "      <td>0.161234</td>\n",
              "      <td>1</td>\n",
              "      <td>2</td>\n",
              "      <td>2</td>\n",
              "      <td>2</td>\n",
              "      <td>1</td>\n",
              "      <td>2</td>\n",
              "      <td>2</td>\n",
              "      <td>1</td>\n",
              "      <td>1. Gold</td>\n",
              "      <td>3</td>\n",
              "      <td>1</td>\n",
              "      <td>1</td>\n",
              "      <td>60000</td>\n",
              "    </tr>\n",
              "  </tbody>\n",
              "</table>\n",
              "<p>55296 rows × 22 columns</p>\n",
              "</div>\n",
              "      <button class=\"colab-df-convert\" onclick=\"convertToInteractive('df-daa12ee9-a846-4157-ae8f-90a3fe046f0a')\"\n",
              "              title=\"Convert this dataframe to an interactive table.\"\n",
              "              style=\"display:none;\">\n",
              "        \n",
              "  <svg xmlns=\"http://www.w3.org/2000/svg\" height=\"24px\"viewBox=\"0 0 24 24\"\n",
              "       width=\"24px\">\n",
              "    <path d=\"M0 0h24v24H0V0z\" fill=\"none\"/>\n",
              "    <path d=\"M18.56 5.44l.94 2.06.94-2.06 2.06-.94-2.06-.94-.94-2.06-.94 2.06-2.06.94zm-11 1L8.5 8.5l.94-2.06 2.06-.94-2.06-.94L8.5 2.5l-.94 2.06-2.06.94zm10 10l.94 2.06.94-2.06 2.06-.94-2.06-.94-.94-2.06-.94 2.06-2.06.94z\"/><path d=\"M17.41 7.96l-1.37-1.37c-.4-.4-.92-.59-1.43-.59-.52 0-1.04.2-1.43.59L10.3 9.45l-7.72 7.72c-.78.78-.78 2.05 0 2.83L4 21.41c.39.39.9.59 1.41.59.51 0 1.02-.2 1.41-.59l7.78-7.78 2.81-2.81c.8-.78.8-2.07 0-2.86zM5.41 20L4 18.59l7.72-7.72 1.47 1.35L5.41 20z\"/>\n",
              "  </svg>\n",
              "      </button>\n",
              "      \n",
              "  <style>\n",
              "    .colab-df-container {\n",
              "      display:flex;\n",
              "      flex-wrap:wrap;\n",
              "      gap: 12px;\n",
              "    }\n",
              "\n",
              "    .colab-df-convert {\n",
              "      background-color: #E8F0FE;\n",
              "      border: none;\n",
              "      border-radius: 50%;\n",
              "      cursor: pointer;\n",
              "      display: none;\n",
              "      fill: #1967D2;\n",
              "      height: 32px;\n",
              "      padding: 0 0 0 0;\n",
              "      width: 32px;\n",
              "    }\n",
              "\n",
              "    .colab-df-convert:hover {\n",
              "      background-color: #E2EBFA;\n",
              "      box-shadow: 0px 1px 2px rgba(60, 64, 67, 0.3), 0px 1px 3px 1px rgba(60, 64, 67, 0.15);\n",
              "      fill: #174EA6;\n",
              "    }\n",
              "\n",
              "    [theme=dark] .colab-df-convert {\n",
              "      background-color: #3B4455;\n",
              "      fill: #D2E3FC;\n",
              "    }\n",
              "\n",
              "    [theme=dark] .colab-df-convert:hover {\n",
              "      background-color: #434B5C;\n",
              "      box-shadow: 0px 1px 3px 1px rgba(0, 0, 0, 0.15);\n",
              "      filter: drop-shadow(0px 1px 2px rgba(0, 0, 0, 0.3));\n",
              "      fill: #FFFFFF;\n",
              "    }\n",
              "  </style>\n",
              "\n",
              "      <script>\n",
              "        const buttonEl =\n",
              "          document.querySelector('#df-daa12ee9-a846-4157-ae8f-90a3fe046f0a button.colab-df-convert');\n",
              "        buttonEl.style.display =\n",
              "          google.colab.kernel.accessAllowed ? 'block' : 'none';\n",
              "\n",
              "        async function convertToInteractive(key) {\n",
              "          const element = document.querySelector('#df-daa12ee9-a846-4157-ae8f-90a3fe046f0a');\n",
              "          const dataTable =\n",
              "            await google.colab.kernel.invokeFunction('convertToInteractive',\n",
              "                                                     [key], {});\n",
              "          if (!dataTable) return;\n",
              "\n",
              "          const docLinkHtml = 'Like what you see? Visit the ' +\n",
              "            '<a target=\"_blank\" href=https://colab.research.google.com/notebooks/data_table.ipynb>data table notebook</a>'\n",
              "            + ' to learn more about interactive tables.';\n",
              "          element.innerHTML = '';\n",
              "          dataTable['output_type'] = 'display_data';\n",
              "          await google.colab.output.renderOutput(dataTable, element);\n",
              "          const docLink = document.createElement('div');\n",
              "          docLink.innerHTML = docLinkHtml;\n",
              "          element.appendChild(docLink);\n",
              "        }\n",
              "      </script>\n",
              "    </div>\n",
              "  </div>\n",
              "  "
            ]
          },
          "metadata": {},
          "execution_count": 5
        }
      ]
    },
    {
      "cell_type": "code",
      "source": [
        "customer_base['Age'] = customer_base['Age'].str.replace('+', '')"
      ],
      "metadata": {
        "colab": {
          "base_uri": "https://localhost:8080/"
        },
        "id": "yoWS5zMxxrHr",
        "outputId": "1bd2acc7-1fd0-4da8-b514-23813a5211a7"
      },
      "execution_count": null,
      "outputs": [
        {
          "output_type": "stream",
          "name": "stderr",
          "text": [
            "/usr/local/lib/python3.7/dist-packages/ipykernel_launcher.py:1: FutureWarning: The default value of regex will change from True to False in a future version. In addition, single character regular expressions will *not* be treated as literal strings when regex=True.\n",
            "  \"\"\"Entry point for launching an IPython kernel.\n"
          ]
        }
      ]
    },
    {
      "cell_type": "code",
      "source": [
        "customer_base['Age'] = customer_base['Age'].astype(float, errors = 'raise')"
      ],
      "metadata": {
        "id": "wcRzUIoHQLQi"
      },
      "execution_count": null,
      "outputs": []
    },
    {
      "cell_type": "code",
      "source": [
        "customer_base.dtypes"
      ],
      "metadata": {
        "colab": {
          "base_uri": "https://localhost:8080/"
        },
        "id": "YZVuyIg9xvdz",
        "outputId": "836942be-b5bd-48cb-d7a6-9fc4cff6b72d"
      },
      "execution_count": null,
      "outputs": [
        {
          "output_type": "execute_result",
          "data": {
            "text/plain": [
              "Numcust          float64\n",
              "TRB              float64\n",
              "Primary_cust     float64\n",
              "Digital_cust     float64\n",
              "CA_holders       float64\n",
              "Card_holders     float64\n",
              "Ins_holders      float64\n",
              "Inv_holders      float64\n",
              "Mort_holders     float64\n",
              "Primary            int64\n",
              "International      int64\n",
              "CA                 int64\n",
              "Card               int64\n",
              "Insurance          int64\n",
              "Investment         int64\n",
              "Mortgage           int64\n",
              "Digital            int64\n",
              "Proposition       object\n",
              "Tenure             int64\n",
              "Age              float64\n",
              "NPS                int64\n",
              "Revenue            int64\n",
              "dtype: object"
            ]
          },
          "metadata": {},
          "execution_count": 7
        }
      ]
    },
    {
      "cell_type": "code",
      "source": [
        "customer_base['Proposition'] = customer_base['Proposition'].str.replace(r'2. Silver',\"Silver\" )\n",
        "customer_base['Proposition'] = customer_base['Proposition'].str.replace(r'1. Gold',\"Gold\" )\n",
        "customer_base['Proposition'] = customer_base['Proposition'].str.replace(r'3. Bronze',\"Bronze\" )"
      ],
      "metadata": {
        "colab": {
          "base_uri": "https://localhost:8080/"
        },
        "id": "UeXbmZfXwofd",
        "outputId": "644b3f29-265e-4850-fc6b-253942002d7c"
      },
      "execution_count": null,
      "outputs": [
        {
          "output_type": "stream",
          "name": "stderr",
          "text": [
            "/usr/local/lib/python3.7/dist-packages/ipykernel_launcher.py:1: FutureWarning: The default value of regex will change from True to False in a future version.\n",
            "  \"\"\"Entry point for launching an IPython kernel.\n",
            "/usr/local/lib/python3.7/dist-packages/ipykernel_launcher.py:2: FutureWarning: The default value of regex will change from True to False in a future version.\n",
            "  \n",
            "/usr/local/lib/python3.7/dist-packages/ipykernel_launcher.py:3: FutureWarning: The default value of regex will change from True to False in a future version.\n",
            "  This is separate from the ipykernel package so we can avoid doing imports until\n"
          ]
        }
      ]
    },
    {
      "cell_type": "code",
      "source": [
        "X = customer_base[['Primary', 'Tenure', 'Age', 'International','CA', 'Card', 'Insurance', 'Investment', 'Mortgage',\n",
        "        'NPS', 'Digital', 'TRB', 'Revenue'\t,'Primary_cust', 'Digital_cust', 'CA_holders', 'Card_holders', 'Ins_holders', \n",
        "        'Inv_holders', 'Mort_holders']]\n",
        "y = customer_base['Proposition']\n"
      ],
      "metadata": {
        "id": "9H27wzVWtIR7"
      },
      "execution_count": null,
      "outputs": []
    },
    {
      "cell_type": "code",
      "source": [
        "#Fit the LDA model\n",
        "model = LinearDiscriminantAnalysis()\n",
        "model.fit(X, y)"
      ],
      "metadata": {
        "colab": {
          "base_uri": "https://localhost:8080/"
        },
        "id": "dWKSSXYKvm4h",
        "outputId": "c6925435-0aa4-4f16-e5fc-814415ba6ad2"
      },
      "execution_count": null,
      "outputs": [
        {
          "output_type": "execute_result",
          "data": {
            "text/plain": [
              "LinearDiscriminantAnalysis()"
            ]
          },
          "metadata": {},
          "execution_count": 12
        }
      ]
    },
    {
      "cell_type": "code",
      "source": [
        "#Define method to evaluate model\n",
        "cv = RepeatedStratifiedKFold(n_splits=10, n_repeats=3, random_state=1)\n",
        "\n",
        "#evaluate model\n",
        "scores = cross_val_score(model, X, y, scoring='accuracy', cv=cv, n_jobs=-1)\n",
        "print(np.mean(scores))  \n",
        "# this is the model performance accuracy"
      ],
      "metadata": {
        "colab": {
          "base_uri": "https://localhost:8080/"
        },
        "id": "OIj7mY_lyFFA",
        "outputId": "ce9b7473-ddfc-40e3-f94b-39dcaaa2a26e"
      },
      "execution_count": null,
      "outputs": [
        {
          "output_type": "stream",
          "name": "stdout",
          "text": [
            "0.7995937579823237\n"
          ]
        }
      ]
    },
    {
      "cell_type": "markdown",
      "source": [
        "This model performs with an accuracy of 80 if the bank is presente witha new customer , inputing these givens the bank can identify to which proposition will the customer belong to."
      ],
      "metadata": {
        "id": "0Z6qIPOiys2B"
      }
    },
    {
      "cell_type": "markdown",
      "source": [
        "### getting model attributes\n"
      ],
      "metadata": {
        "id": "gGVQD6JeQ2I4"
      }
    },
    {
      "cell_type": "code",
      "source": [
        "model.coef_"
      ],
      "metadata": {
        "colab": {
          "base_uri": "https://localhost:8080/"
        },
        "id": "l_-zX2_qQ1Ak",
        "outputId": "fa4a0c51-6de9-4669-9b55-17e9c6189bcc"
      },
      "execution_count": null,
      "outputs": [
        {
          "output_type": "execute_result",
          "data": {
            "text/plain": [
              "array([[ 2.46289389e-01, -1.35927597e-03, -5.89929630e-04,\n",
              "        -9.50269506e-05,  4.09760148e-01,  5.33863462e-02,\n",
              "        -9.58909192e-01, -1.71870599e-01,  5.42394531e-02,\n",
              "        -1.18996464e-03,  5.68800056e-01, -5.22524697e-01,\n",
              "        -4.02794424e-05,  1.08315745e+00, -5.17255349e-02,\n",
              "         7.45448555e-01, -2.92140819e-01,  1.21388917e-01,\n",
              "         9.94638027e-02,  7.44643342e-02],\n",
              "       [ 2.72241339e-01,  3.06704985e-03,  2.08137106e-04,\n",
              "         1.48064076e-04, -1.03544826e-01, -2.31991826e-01,\n",
              "         8.34724393e-01,  3.49692518e-01,  9.84414431e-03,\n",
              "         4.18640005e-04, -7.91784072e-01, -6.01432192e-01,\n",
              "         7.09307123e-05, -1.49888035e+00,  8.32170635e-02,\n",
              "        -1.18896731e+00,  5.96384578e-01, -1.29066180e-01,\n",
              "        -2.20850828e-01, -3.18432007e-02],\n",
              "       [-5.18530727e-01, -1.70777389e-03,  3.81792524e-04,\n",
              "        -5.30371250e-05, -3.06215322e-01,  1.78605480e-01,\n",
              "         1.24184799e-01, -1.77821920e-01, -6.40835974e-02,\n",
              "         7.71324638e-04,  2.22984015e-01,  1.12395689e+00,\n",
              "        -3.06512699e-05,  4.15722900e-01, -3.14915286e-02,\n",
              "         4.43518758e-01, -3.04243759e-01,  7.67726256e-03,\n",
              "         1.21387025e-01, -4.26211335e-02]])"
            ]
          },
          "metadata": {},
          "execution_count": 18
        }
      ]
    },
    {
      "cell_type": "code",
      "source": [
        "model.intercept_"
      ],
      "metadata": {
        "colab": {
          "base_uri": "https://localhost:8080/"
        },
        "id": "3yB24vo3RGE7",
        "outputId": "3911b7ab-8024-42b3-d3dc-eb10c94bee16"
      },
      "execution_count": null,
      "outputs": [
        {
          "output_type": "execute_result",
          "data": {
            "text/plain": [
              "array([-0.69359273, -5.57707183,  0.25783146])"
            ]
          },
          "metadata": {},
          "execution_count": 15
        }
      ]
    },
    {
      "cell_type": "code",
      "source": [
        "model.explained_variance_ratio_"
      ],
      "metadata": {
        "colab": {
          "base_uri": "https://localhost:8080/"
        },
        "id": "kjW2vIAFSRsk",
        "outputId": "41326fa2-e0b7-418b-9ee9-92588baf3fca"
      },
      "execution_count": null,
      "outputs": [
        {
          "output_type": "execute_result",
          "data": {
            "text/plain": [
              "array([0.87212289, 0.12787711])"
            ]
          },
          "metadata": {},
          "execution_count": 21
        }
      ]
    },
    {
      "cell_type": "code",
      "source": [
        "model.means_"
      ],
      "metadata": {
        "colab": {
          "base_uri": "https://localhost:8080/"
        },
        "id": "-gvtTlB-SlhO",
        "outputId": "f4c11bfa-6bd1-437d-ea00-a2f03c166ce8"
      },
      "execution_count": null,
      "outputs": [
        {
          "output_type": "execute_result",
          "data": {
            "text/plain": [
              "array([[ 1.50000000e+00,  2.50000000e+00,  3.50000000e+00,\n",
              "         1.50000000e+00,  1.50000000e+00,  1.50000000e+00,\n",
              "         1.50000000e+00,  1.50000000e+00,  1.50000000e+00,\n",
              "         2.00000000e+00,  1.50000000e+00, -2.06830604e-01,\n",
              "         1.78515625e+04,  4.08117903e-01,  3.77308124e-01,\n",
              "         4.90810171e-01,  5.84666611e-01,  6.18757211e-01,\n",
              "         1.41618281e-01,  3.62534369e-01],\n",
              "       [ 1.50000000e+00,  2.50000000e+00,  3.50000000e+00,\n",
              "         1.50000000e+00,  1.50000000e+00,  1.50000000e+00,\n",
              "         1.50000000e+00,  1.50000000e+00,  1.50000000e+00,\n",
              "         2.00000000e+00,  1.50000000e+00,  4.98074220e-01,\n",
              "         8.49538845e+04,  7.83431159e-02,  7.52724625e-02,\n",
              "        -6.36961620e-03, -1.07149559e-03,  6.19766127e-01,\n",
              "         2.44042793e-01,  4.31193616e-02],\n",
              "       [ 1.50000000e+00,  2.50000000e+00,  3.50000000e+00,\n",
              "         1.50000000e+00,  1.50000000e+00,  1.50000000e+00,\n",
              "         1.50000000e+00,  1.50000000e+00,  1.50000000e+00,\n",
              "         2.00000000e+00,  1.50000000e+00,  8.01750665e-01,\n",
              "         5.44998698e+04,  6.62141258e-01,  5.99751466e-01,\n",
              "         8.58024616e-01,  4.90907361e-01,  6.15173819e-01,\n",
              "         1.11853998e+00,  8.05695187e-01]])"
            ]
          },
          "metadata": {},
          "execution_count": 22
        }
      ]
    },
    {
      "cell_type": "code",
      "source": [
        "model.priors_"
      ],
      "metadata": {
        "colab": {
          "base_uri": "https://localhost:8080/"
        },
        "id": "bSPawxssSocv",
        "outputId": "d147ac58-be32-4f5d-c84d-cf4fe7fc5f82"
      },
      "execution_count": null,
      "outputs": [
        {
          "output_type": "execute_result",
          "data": {
            "text/plain": [
              "array([0.33333333, 0.33333333, 0.33333333])"
            ]
          },
          "metadata": {},
          "execution_count": 23
        }
      ]
    },
    {
      "cell_type": "code",
      "source": [
        "model.n_features_in_"
      ],
      "metadata": {
        "colab": {
          "base_uri": "https://localhost:8080/"
        },
        "id": "e6MAjusuStac",
        "outputId": "ab9ab12b-dea4-42fe-bd70-3efad8695d7f"
      },
      "execution_count": null,
      "outputs": [
        {
          "output_type": "execute_result",
          "data": {
            "text/plain": [
              "20"
            ]
          },
          "metadata": {},
          "execution_count": 25
        }
      ]
    },
    {
      "cell_type": "code",
      "source": [
        "model.feature_names_in_"
      ],
      "metadata": {
        "colab": {
          "base_uri": "https://localhost:8080/"
        },
        "id": "2LsBEhyrS56A",
        "outputId": "e6eb1260-15e6-488c-f704-1f055bbcb3aa"
      },
      "execution_count": null,
      "outputs": [
        {
          "output_type": "execute_result",
          "data": {
            "text/plain": [
              "array(['Primary', 'Tenure', 'Age', 'International', 'CA', 'Card',\n",
              "       'Insurance', 'Investment', 'Mortgage', 'NPS', 'Digital', 'TRB',\n",
              "       'Revenue', 'Primary_cust', 'Digital_cust', 'CA_holders',\n",
              "       'Card_holders', 'Ins_holders', 'Inv_holders', 'Mort_holders'],\n",
              "      dtype=object)"
            ]
          },
          "metadata": {},
          "execution_count": 27
        }
      ]
    },
    {
      "cell_type": "code",
      "source": [
        "new = [1,1,2,2,2,2,2,1,1,2,1,30,40,1,1,2,2,2,1,1]\n",
        "\n",
        "#predict which class the new observation belongs to\n",
        "model.predict([new])"
      ],
      "metadata": {
        "colab": {
          "base_uri": "https://localhost:8080/"
        },
        "id": "Jx3LIMyOyTEp",
        "outputId": "5140dab0-3f6c-4a47-c66e-cef2553714ad"
      },
      "execution_count": null,
      "outputs": [
        {
          "output_type": "stream",
          "name": "stderr",
          "text": [
            "/usr/local/lib/python3.7/dist-packages/sklearn/base.py:451: UserWarning: X does not have valid feature names, but LinearDiscriminantAnalysis was fitted with feature names\n",
            "  \"X does not have valid feature names, but\"\n"
          ]
        },
        {
          "output_type": "execute_result",
          "data": {
            "text/plain": [
              "array(['Silver'], dtype='<U6')"
            ]
          },
          "metadata": {},
          "execution_count": 48
        }
      ]
    },
    {
      "cell_type": "code",
      "source": [
        "df['target'].value_counts()\n"
      ],
      "metadata": {
        "colab": {
          "base_uri": "https://localhost:8080/"
        },
        "id": "hWmEBnbr0bDb",
        "outputId": "5ecc5f45-f00e-4cb2-eebf-3fd644bf805d"
      },
      "execution_count": null,
      "outputs": [
        {
          "output_type": "execute_result",
          "data": {
            "text/plain": [
              "0.0    50\n",
              "1.0    50\n",
              "2.0    50\n",
              "Name: target, dtype: int64"
            ]
          },
          "metadata": {},
          "execution_count": 59
        }
      ]
    },
    {
      "cell_type": "code",
      "source": [
        "proposition_df= customer_base['Proposition']"
      ],
      "metadata": {
        "id": "xlGj2vV12a2z"
      },
      "execution_count": null,
      "outputs": []
    },
    {
      "cell_type": "code",
      "source": [
        "\n",
        "customer_base['Proposition'] = customer_base['Proposition'].str.replace(r'2. Silver',\"Silver\" )\n",
        "customer_base['Proposition'] = customer_base['Proposition'].str.replace(r'1. Gold',\"Gold\" )\n",
        "customer_base['Proposition'] = customer_base['Proposition'].str.replace(r'3. Bronze',\"Bronze\" )"
      ],
      "metadata": {
        "colab": {
          "base_uri": "https://localhost:8080/"
        },
        "id": "YG8rgGTD2Gnd",
        "outputId": "99cba2b1-2268-433b-a33d-2a1485271304"
      },
      "execution_count": null,
      "outputs": [
        {
          "output_type": "execute_result",
          "data": {
            "text/plain": [
              "array([[ 2.        ,  2.        ,  2.        , ...,  2.06028969,\n",
              "        -0.32130399, -0.25119742],\n",
              "       [ 2.        ,  2.        ,  2.        , ...,  2.7015429 ,\n",
              "        -0.32130399, -0.25119742],\n",
              "       [ 2.        ,  2.        ,  2.        , ...,  2.06028969,\n",
              "        -0.32130399, -0.25119742],\n",
              "       ...,\n",
              "       [ 1.        ,  3.        ,  1.        , ..., -0.50472314,\n",
              "         0.7555665 ,  0.29871104],\n",
              "       [ 1.        ,  3.        ,  1.        , ..., -0.50472314,\n",
              "         0.21713125,  0.02375681],\n",
              "       [ 1.        ,  3.        ,  1.        , ..., -0.50472314,\n",
              "         0.48634888,  0.16123392]])"
            ]
          },
          "metadata": {},
          "execution_count": 63
        }
      ]
    },
    {
      "cell_type": "markdown",
      "source": [
        "### SVM"
      ],
      "metadata": {
        "id": "TAYTPtund5XD"
      }
    },
    {
      "cell_type": "code",
      "source": [
        "from sklearn import svm\n",
        "from sklearn.svm import SVC\n"
      ],
      "metadata": {
        "id": "z8_XcIXvyqvA"
      },
      "execution_count": null,
      "outputs": []
    },
    {
      "cell_type": "code",
      "source": [
        "X_train, X_test, y_train, y_test = train_test_split(X, y, test_size=0.2,random_state=109) # 70% training and 30% test"
      ],
      "metadata": {
        "id": "GrcfI2tBbFlu"
      },
      "execution_count": null,
      "outputs": []
    },
    {
      "cell_type": "code",
      "source": [
        "#Import svm model\n",
        "from sklearn.svm import SVC\n",
        "from sklearn import svm\n",
        "\n",
        "#Create a svm Classifier\n",
        "clf = svm.SVC(kernel='linear') # Linear Kernel\n",
        "\n",
        "#Train the model using the training sets\n",
        "clf.fit(X_train, y_train)\n",
        "\n",
        "#Predict the response for test dataset\n",
        "y_pred = clf.predict(X_test)"
      ],
      "metadata": {
        "id": "Ss7LqhA8awy2"
      },
      "execution_count": null,
      "outputs": []
    },
    {
      "cell_type": "code",
      "source": [
        ""
      ],
      "metadata": {
        "id": "Bx66RZOMaw2A"
      },
      "execution_count": null,
      "outputs": []
    },
    {
      "cell_type": "code",
      "source": [
        ""
      ],
      "metadata": {
        "id": "OGOeTRmAaw5i"
      },
      "execution_count": null,
      "outputs": []
    }
  ]
}