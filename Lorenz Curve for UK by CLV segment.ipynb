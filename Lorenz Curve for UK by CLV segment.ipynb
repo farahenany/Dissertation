{
 "cells": [
  {
   "cell_type": "code",
   "execution_count": 5,
   "id": "6a4b66d0",
   "metadata": {},
   "outputs": [],
   "source": [
    "import pandas as pd"
   ]
  },
  {
   "cell_type": "code",
   "execution_count": 6,
   "id": "cc5ad7a3",
   "metadata": {},
   "outputs": [],
   "source": [
    "data=pd.read_csv('TIR_all.csv')"
   ]
  },
  {
   "cell_type": "code",
   "execution_count": 7,
   "id": "13872b9c",
   "metadata": {},
   "outputs": [],
   "source": [
    "# sorting by CLV segment and revenue\n",
    "data= data.sort_values(by=['Customer_segment','Revenue'], ascending= True)"
   ]
  },
  {
   "cell_type": "code",
   "execution_count": 8,
   "id": "2f129f80",
   "metadata": {},
   "outputs": [
    {
     "data": {
      "text/html": [
       "<div>\n",
       "<style scoped>\n",
       "    .dataframe tbody tr th:only-of-type {\n",
       "        vertical-align: middle;\n",
       "    }\n",
       "\n",
       "    .dataframe tbody tr th {\n",
       "        vertical-align: top;\n",
       "    }\n",
       "\n",
       "    .dataframe thead th {\n",
       "        text-align: right;\n",
       "    }\n",
       "</style>\n",
       "<table border=\"1\" class=\"dataframe\">\n",
       "  <thead>\n",
       "    <tr style=\"text-align: right;\">\n",
       "      <th></th>\n",
       "      <th>Unnamed: 0</th>\n",
       "      <th>Proposition</th>\n",
       "      <th>Primary</th>\n",
       "      <th>Tenure</th>\n",
       "      <th>Age</th>\n",
       "      <th>International</th>\n",
       "      <th>CA</th>\n",
       "      <th>Card</th>\n",
       "      <th>Insurance</th>\n",
       "      <th>Investment</th>\n",
       "      <th>...</th>\n",
       "      <th>Ins_holders</th>\n",
       "      <th>Inv_holders</th>\n",
       "      <th>Mort_holders</th>\n",
       "      <th>Involvement</th>\n",
       "      <th>T_rank_norm</th>\n",
       "      <th>I_rank_norm</th>\n",
       "      <th>R_rank_norm</th>\n",
       "      <th>S_rank_norm</th>\n",
       "      <th>TIR_Score</th>\n",
       "      <th>Customer_segment</th>\n",
       "    </tr>\n",
       "  </thead>\n",
       "  <tbody>\n",
       "    <tr>\n",
       "      <th>12765</th>\n",
       "      <td>12765</td>\n",
       "      <td>2. Silver</td>\n",
       "      <td>1. Primary</td>\n",
       "      <td>3</td>\n",
       "      <td>2. 25 - 35</td>\n",
       "      <td>0</td>\n",
       "      <td>1</td>\n",
       "      <td>1</td>\n",
       "      <td>0</td>\n",
       "      <td>1</td>\n",
       "      <td>...</td>\n",
       "      <td>0</td>\n",
       "      <td>1240</td>\n",
       "      <td>1240</td>\n",
       "      <td>5</td>\n",
       "      <td>42.857733</td>\n",
       "      <td>85.882481</td>\n",
       "      <td>100.0</td>\n",
       "      <td>100.000000</td>\n",
       "      <td>9.309427</td>\n",
       "      <td>Top Customers</td>\n",
       "    </tr>\n",
       "    <tr>\n",
       "      <th>13055</th>\n",
       "      <td>13055</td>\n",
       "      <td>2. Silver</td>\n",
       "      <td>1. Primary</td>\n",
       "      <td>3</td>\n",
       "      <td>6. 65+</td>\n",
       "      <td>1</td>\n",
       "      <td>1</td>\n",
       "      <td>1</td>\n",
       "      <td>0</td>\n",
       "      <td>1</td>\n",
       "      <td>...</td>\n",
       "      <td>0</td>\n",
       "      <td>1240</td>\n",
       "      <td>1240</td>\n",
       "      <td>6</td>\n",
       "      <td>42.857733</td>\n",
       "      <td>96.862774</td>\n",
       "      <td>100.0</td>\n",
       "      <td>20.000868</td>\n",
       "      <td>8.656619</td>\n",
       "      <td>Top Customers</td>\n",
       "    </tr>\n",
       "    <tr>\n",
       "      <th>13215</th>\n",
       "      <td>13215</td>\n",
       "      <td>2. Silver</td>\n",
       "      <td>1. Primary</td>\n",
       "      <td>3</td>\n",
       "      <td>5. 55 - 65</td>\n",
       "      <td>1</td>\n",
       "      <td>1</td>\n",
       "      <td>0</td>\n",
       "      <td>0</td>\n",
       "      <td>0</td>\n",
       "      <td>...</td>\n",
       "      <td>0</td>\n",
       "      <td>0</td>\n",
       "      <td>1240</td>\n",
       "      <td>4</td>\n",
       "      <td>42.857733</td>\n",
       "      <td>63.921896</td>\n",
       "      <td>100.0</td>\n",
       "      <td>100.000000</td>\n",
       "      <td>8.731863</td>\n",
       "      <td>Top Customers</td>\n",
       "    </tr>\n",
       "    <tr>\n",
       "      <th>13432</th>\n",
       "      <td>13432</td>\n",
       "      <td>2. Silver</td>\n",
       "      <td>1. Primary</td>\n",
       "      <td>3</td>\n",
       "      <td>4. 45 - 55</td>\n",
       "      <td>1</td>\n",
       "      <td>1</td>\n",
       "      <td>1</td>\n",
       "      <td>0</td>\n",
       "      <td>0</td>\n",
       "      <td>...</td>\n",
       "      <td>0</td>\n",
       "      <td>0</td>\n",
       "      <td>1240</td>\n",
       "      <td>5</td>\n",
       "      <td>42.857733</td>\n",
       "      <td>85.882481</td>\n",
       "      <td>100.0</td>\n",
       "      <td>60.000434</td>\n",
       "      <td>8.838632</td>\n",
       "      <td>Top Customers</td>\n",
       "    </tr>\n",
       "    <tr>\n",
       "      <th>13607</th>\n",
       "      <td>13607</td>\n",
       "      <td>2. Silver</td>\n",
       "      <td>1. Primary</td>\n",
       "      <td>3</td>\n",
       "      <td>3. 35-45</td>\n",
       "      <td>1</td>\n",
       "      <td>1</td>\n",
       "      <td>0</td>\n",
       "      <td>0</td>\n",
       "      <td>1</td>\n",
       "      <td>...</td>\n",
       "      <td>0</td>\n",
       "      <td>1240</td>\n",
       "      <td>1240</td>\n",
       "      <td>5</td>\n",
       "      <td>42.857733</td>\n",
       "      <td>85.882481</td>\n",
       "      <td>100.0</td>\n",
       "      <td>20.000868</td>\n",
       "      <td>8.367837</td>\n",
       "      <td>Top Customers</td>\n",
       "    </tr>\n",
       "  </tbody>\n",
       "</table>\n",
       "<p>5 rows × 30 columns</p>\n",
       "</div>"
      ],
      "text/plain": [
       "       Unnamed: 0 Proposition     Primary  Tenure         Age  International  \\\n",
       "12765       12765   2. Silver  1. Primary       3  2. 25 - 35              0   \n",
       "13055       13055   2. Silver  1. Primary       3      6. 65+              1   \n",
       "13215       13215   2. Silver  1. Primary       3  5. 55 - 65              1   \n",
       "13432       13432   2. Silver  1. Primary       3  4. 45 - 55              1   \n",
       "13607       13607   2. Silver  1. Primary       3    3. 35-45              1   \n",
       "\n",
       "       CA  Card  Insurance  Investment  ...  Ins_holders  Inv_holders  \\\n",
       "12765   1     1          0           1  ...            0         1240   \n",
       "13055   1     1          0           1  ...            0         1240   \n",
       "13215   1     0          0           0  ...            0            0   \n",
       "13432   1     1          0           0  ...            0            0   \n",
       "13607   1     0          0           1  ...            0         1240   \n",
       "\n",
       "       Mort_holders  Involvement  T_rank_norm  I_rank_norm  R_rank_norm  \\\n",
       "12765          1240            5    42.857733    85.882481        100.0   \n",
       "13055          1240            6    42.857733    96.862774        100.0   \n",
       "13215          1240            4    42.857733    63.921896        100.0   \n",
       "13432          1240            5    42.857733    85.882481        100.0   \n",
       "13607          1240            5    42.857733    85.882481        100.0   \n",
       "\n",
       "       S_rank_norm  TIR_Score  Customer_segment  \n",
       "12765   100.000000   9.309427     Top Customers  \n",
       "13055    20.000868   8.656619     Top Customers  \n",
       "13215   100.000000   8.731863     Top Customers  \n",
       "13432    60.000434   8.838632     Top Customers  \n",
       "13607    20.000868   8.367837     Top Customers  \n",
       "\n",
       "[5 rows x 30 columns]"
      ]
     },
     "execution_count": 8,
     "metadata": {},
     "output_type": "execute_result"
    }
   ],
   "source": [
    "data.tail()"
   ]
  },
  {
   "cell_type": "code",
   "execution_count": 9,
   "id": "caaf9f98",
   "metadata": {},
   "outputs": [],
   "source": [
    "data['Customer_segment'] = data['Customer_segment'].str.replace(r'Lost Customers','1')\n",
    "data['Customer_segment'] = data['Customer_segment'].str.replace(r'Low Value Customers','2')\n",
    "data['Customer_segment'] = data['Customer_segment'].str.replace(r'Medium Value Customer','3')\n",
    "data['Customer_segment'] = data['Customer_segment'].str.replace(r'High value Customer','3')\n",
    "data['Customer_segment'] = data['Customer_segment'].str.replace(r'Top Customers','5')"
   ]
  },
  {
   "cell_type": "code",
   "execution_count": 10,
   "id": "f50ff7d3",
   "metadata": {},
   "outputs": [],
   "source": [
    "data['Value']= data['Revenue'].cumsum()/data['Revenue'].sum()"
   ]
  },
  {
   "cell_type": "code",
   "execution_count": 11,
   "id": "bbc0263e",
   "metadata": {},
   "outputs": [],
   "source": [
    "data['customer_prop']= data['Numcust'].cumsum()/data[\"Numcust\"].sum()\n",
    "data['customer_prop']= data['customer_prop'].sort_values(ascending= False)"
   ]
  },
  {
   "cell_type": "code",
   "execution_count": 12,
   "id": "71c4d52a",
   "metadata": {},
   "outputs": [],
   "source": [
    "import numpy as np\n",
    "from scipy.interpolate import make_interp_spline, BSpline"
   ]
  },
  {
   "cell_type": "code",
   "execution_count": 13,
   "id": "1d805bbf",
   "metadata": {},
   "outputs": [
    {
     "data": {
      "image/png": "[encoded data removed]",
      "text/plain": [
       "<Figure size 432x288 with 1 Axes>"
      ]
     },
     "metadata": {
      "needs_background": "light"
     },
     "output_type": "display_data"
    }
   ],
   "source": [
    "import matplotlib.pyplot as plt\n",
    " \n",
    "x  = data[\"customer_prop\"]\n",
    "y = data[\"Value\"]\n",
    "\n",
    "plt.plot(round(x,2), y)\n",
    "plt.plot()\n",
    "\n",
    "plt.xlabel(\"Percentage of Customers\")\n",
    "plt.grid()\n",
    "plt.ylabel(\"Percentage of Value\")\n",
    "plt.title(\"Lorenz Curve\")\n",
    "\n",
    "plt.show()"
   ]
  },
  {
   "cell_type": "code",
   "execution_count": 14,
   "id": "841c1594",
   "metadata": {},
   "outputs": [],
   "source": [
    "y=sorted(y)\n",
    "x=sorted(x)"
   ]
  },
  {
   "cell_type": "code",
   "execution_count": 15,
   "id": "b7f08738",
   "metadata": {},
   "outputs": [],
   "source": [
    "x=np.array(x)\n",
    "y=np.array(y)"
   ]
  },
  {
   "cell_type": "code",
   "execution_count": 16,
   "id": "b246140d",
   "metadata": {},
   "outputs": [
    {
     "data": {
      "image/png": "[encoded data removed]",
      "text/plain": [
       "<Figure size 432x288 with 1 Axes>"
      ]
     },
     "metadata": {
      "needs_background": "light"
     },
     "output_type": "display_data"
    }
   ],
   "source": [
    "import matplotlib.pyplot as plt\n",
    "import numpy as np\n",
    "from scipy.interpolate import make_interp_spline\n",
    " \n",
    "# x  = proposition[\"customer_prop\"]\n",
    "# y = proposition[\"Value\"]\n",
    "\n",
    "X_Y_Spline = make_interp_spline(x, y)\n",
    "\n",
    "X_ = np.linspace(x.min(), x.max(), 500)\n",
    "\n",
    "Y_ = X_Y_Spline(X_)\n",
    "plt.plot(X_, Y_)\n",
    "plt.plot()\n",
    "\n",
    "plt.xlabel(\"Percentage of Customers\")\n",
    "plt.grid()\n",
    "plt.ylabel(\"Percentage of Value\")\n",
    "plt.title(\"Lorenz Curve Sorted by CLV Segments and Revenue\")\n",
    "\n",
    "plt.show()"
   ]
  }
 ],
 "metadata": {
  "kernelspec": {
   "display_name": "Python 3",
   "language": "python",
   "name": "python3"
  },
  "language_info": {
   "codemirror_mode": {
    "name": "ipython",
    "version": 3
   },
   "file_extension": ".py",
   "mimetype": "text/x-python",
   "name": "python",
   "nbconvert_exporter": "python",
   "pygments_lexer": "ipython3",
   "version": "3.8.8"
  }
 },
 "nbformat": 4,
 "nbformat_minor": 5
}
