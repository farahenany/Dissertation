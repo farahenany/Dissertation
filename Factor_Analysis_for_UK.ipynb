{
  "nbformat": 4,
  "nbformat_minor": 0,
  "metadata": {
    "colab": {
      "name": "Factor Analysis for UK.ipynb",
      "provenance": [],
      "collapsed_sections": [],
      "authorship_tag": "ABX9TyNO0bt3qBDxl9XvfxH+qf/E",
      "include_colab_link": true
    },
    "kernelspec": {
      "name": "python3",
      "display_name": "Python 3"
    },
    "language_info": {
      "name": "python"
    }
  },
  "cells": [
    {
      "cell_type": "markdown",
      "metadata": {
        "id": "view-in-github",
        "colab_type": "text"
      },
      "source": [
        "<a href=\"https://colab.research.google.com/github/farahenany/Dissertation/blob/main/Factor_Analysis_for_UK.ipynb\" target=\"_parent\"><img src=\"https://colab.research.google.com/assets/colab-badge.svg\" alt=\"Open In Colab\"/></a>"
      ]
    },
    {
      "cell_type": "code",
      "execution_count": null,
      "metadata": {
        "id": "kx-2gzrbdCOw"
      },
      "outputs": [],
      "source": [
        "import pandas as pd"
      ]
    },
    {
      "cell_type": "code",
      "source": [
        "% pip install factor_analyzer\n",
        "from factor_analyzer import FactorAnalyzer\n",
        "import matplotlib.pyplot as plt"
      ],
      "metadata": {
        "id": "Hwl-Ck3LgKHu",
        "colab": {
          "base_uri": "https://localhost:8080/"
        },
        "outputId": "ca00fe9c-8e52-4036-d3d9-a0869843e47e"
      },
      "execution_count": null,
      "outputs": [
        {
          "output_type": "stream",
          "name": "stdout",
          "text": [
            "Looking in indexes: https://pypi.org/simple, https://us-python.pkg.dev/colab-wheels/public/simple/\n",
            "Collecting factor_analyzer\n",
            "  Downloading factor_analyzer-0.4.0.tar.gz (41 kB)\n",
            "\u001b[K     |████████████████████████████████| 41 kB 199 kB/s \n",
            "\u001b[?25hRequirement already satisfied: pandas in /usr/local/lib/python3.7/dist-packages (from factor_analyzer) (1.3.5)\n",
            "Requirement already satisfied: scipy in /usr/local/lib/python3.7/dist-packages (from factor_analyzer) (1.7.3)\n",
            "Requirement already satisfied: numpy in /usr/local/lib/python3.7/dist-packages (from factor_analyzer) (1.21.6)\n",
            "Requirement already satisfied: scikit-learn in /usr/local/lib/python3.7/dist-packages (from factor_analyzer) (1.0.2)\n",
            "Requirement already satisfied: pytz>=2017.3 in /usr/local/lib/python3.7/dist-packages (from pandas->factor_analyzer) (2022.1)\n",
            "Requirement already satisfied: python-dateutil>=2.7.3 in /usr/local/lib/python3.7/dist-packages (from pandas->factor_analyzer) (2.8.2)\n",
            "Requirement already satisfied: six>=1.5 in /usr/local/lib/python3.7/dist-packages (from python-dateutil>=2.7.3->pandas->factor_analyzer) (1.15.0)\n",
            "Requirement already satisfied: threadpoolctl>=2.0.0 in /usr/local/lib/python3.7/dist-packages (from scikit-learn->factor_analyzer) (3.1.0)\n",
            "Requirement already satisfied: joblib>=0.11 in /usr/local/lib/python3.7/dist-packages (from scikit-learn->factor_analyzer) (1.1.0)\n",
            "Building wheels for collected packages: factor-analyzer\n",
            "  Building wheel for factor-analyzer (setup.py) ... \u001b[?25l\u001b[?25hdone\n",
            "  Created wheel for factor-analyzer: filename=factor_analyzer-0.4.0-py3-none-any.whl size=41455 sha256=2699b0299a05f122e70a60000627cdfc0f4885543b0129a34da4abbf39f24fe2\n",
            "  Stored in directory: /root/.cache/pip/wheels/ac/00/37/1f0e8a5039f9e9f207c4405bbce0796f07701eb377bfc6cc76\n",
            "Successfully built factor-analyzer\n",
            "Installing collected packages: factor-analyzer\n",
            "Successfully installed factor-analyzer-0.4.0\n"
          ]
        }
      ]
    },
    {
      "cell_type": "code",
      "source": [
        "# set option to display all columns in data frame\n",
        "pd.options.display.max_columns = None"
      ],
      "metadata": {
        "id": "z-YKNGcyg_4W"
      },
      "execution_count": null,
      "outputs": []
    },
    {
      "cell_type": "code",
      "source": [
        "from google.colab import drive\n",
        "\n",
        "drive.mount('/content/drive')"
      ],
      "metadata": {
        "colab": {
          "base_uri": "https://localhost:8080/"
        },
        "id": "FmhZYN24gpDi",
        "outputId": "d106d253-76e4-4dff-8eec-1d7f691d24bc"
      },
      "execution_count": null,
      "outputs": [
        {
          "output_type": "stream",
          "name": "stdout",
          "text": [
            "Mounted at /content/drive\n"
          ]
        }
      ]
    },
    {
      "cell_type": "code",
      "source": [
        "customer_base = pd.read_csv(\"drive/MyDrive/Dissertation/Dissertation/customer_retail_bank/UK_final_data.csv\")\n",
        "customer_base.head()"
      ],
      "metadata": {
        "colab": {
          "base_uri": "https://localhost:8080/",
          "height": 268
        },
        "id": "quMdRgh1hCw0",
        "outputId": "97fded04-fa22-4b0b-a5b9-68bbf88dbf86"
      },
      "execution_count": null,
      "outputs": [
        {
          "output_type": "execute_result",
          "data": {
            "text/plain": [
              "    Numcust       TRB  Primary_cust  Digital_cust  CA_holders  Card_holders  \\\n",
              "0  0.070379 -0.243790      0.340697      0.252573   -0.270957     -0.235752   \n",
              "1  0.177381 -0.199371      0.487501      0.381397   -0.270957     -0.235752   \n",
              "2  0.070379 -0.243790      0.340697      0.252573   -0.270957     -0.235752   \n",
              "3  0.070379 -0.243790      0.340697      0.252573   -0.270957     -0.235752   \n",
              "4  0.070379 -0.243790      0.340697      0.252573   -0.270957     -0.235752   \n",
              "\n",
              "   Ins_holders  Inv_holders  Mort_holders   Revenue  Primary  International  \\\n",
              "0     2.060290    -0.321304     -0.251197 -0.245633      1.0            0.0   \n",
              "1     2.701543    -0.321304     -0.251197 -0.204336      1.0            0.0   \n",
              "2     2.060290    -0.321304     -0.251197 -0.245633      1.0            0.0   \n",
              "3     2.060290    -0.321304      0.298711 -0.245633      1.0            0.0   \n",
              "4     2.060290    -0.321304      0.298711 -0.245633      1.0            0.0   \n",
              "\n",
              "    CA  Card  Insurance  Investment  Mortgage  Digital  Proposition  Tenure  \\\n",
              "0  0.0   0.0        1.0         0.0       0.0      1.0          1.0     2.0   \n",
              "1  0.0   0.0        1.0         0.0       0.0      1.0          1.0     2.0   \n",
              "2  0.0   0.0        1.0         0.0       0.0      1.0          1.0     2.0   \n",
              "3  0.0   0.0        1.0         0.0       1.0      1.0          1.0     2.0   \n",
              "4  0.0   0.0        1.0         0.0       1.0      1.0          1.0     2.0   \n",
              "\n",
              "   Age  NPS  \n",
              "0  2.0  3.0  \n",
              "1  2.0  2.0  \n",
              "2  2.0  1.0  \n",
              "3  2.0  3.0  \n",
              "4  2.0  2.0  "
            ],
            "text/html": [
              "\n",
              "  <div id=\"df-4edcc76e-9207-47df-b8e3-ed6f3ea2ac70\">\n",
              "    <div class=\"colab-df-container\">\n",
              "      <div>\n",
              "<style scoped>\n",
              "    .dataframe tbody tr th:only-of-type {\n",
              "        vertical-align: middle;\n",
              "    }\n",
              "\n",
              "    .dataframe tbody tr th {\n",
              "        vertical-align: top;\n",
              "    }\n",
              "\n",
              "    .dataframe thead th {\n",
              "        text-align: right;\n",
              "    }\n",
              "</style>\n",
              "<table border=\"1\" class=\"dataframe\">\n",
              "  <thead>\n",
              "    <tr style=\"text-align: right;\">\n",
              "      <th></th>\n",
              "      <th>Numcust</th>\n",
              "      <th>TRB</th>\n",
              "      <th>Primary_cust</th>\n",
              "      <th>Digital_cust</th>\n",
              "      <th>CA_holders</th>\n",
              "      <th>Card_holders</th>\n",
              "      <th>Ins_holders</th>\n",
              "      <th>Inv_holders</th>\n",
              "      <th>Mort_holders</th>\n",
              "      <th>Revenue</th>\n",
              "      <th>Primary</th>\n",
              "      <th>International</th>\n",
              "      <th>CA</th>\n",
              "      <th>Card</th>\n",
              "      <th>Insurance</th>\n",
              "      <th>Investment</th>\n",
              "      <th>Mortgage</th>\n",
              "      <th>Digital</th>\n",
              "      <th>Proposition</th>\n",
              "      <th>Tenure</th>\n",
              "      <th>Age</th>\n",
              "      <th>NPS</th>\n",
              "    </tr>\n",
              "  </thead>\n",
              "  <tbody>\n",
              "    <tr>\n",
              "      <th>0</th>\n",
              "      <td>0.070379</td>\n",
              "      <td>-0.243790</td>\n",
              "      <td>0.340697</td>\n",
              "      <td>0.252573</td>\n",
              "      <td>-0.270957</td>\n",
              "      <td>-0.235752</td>\n",
              "      <td>2.060290</td>\n",
              "      <td>-0.321304</td>\n",
              "      <td>-0.251197</td>\n",
              "      <td>-0.245633</td>\n",
              "      <td>1.0</td>\n",
              "      <td>0.0</td>\n",
              "      <td>0.0</td>\n",
              "      <td>0.0</td>\n",
              "      <td>1.0</td>\n",
              "      <td>0.0</td>\n",
              "      <td>0.0</td>\n",
              "      <td>1.0</td>\n",
              "      <td>1.0</td>\n",
              "      <td>2.0</td>\n",
              "      <td>2.0</td>\n",
              "      <td>3.0</td>\n",
              "    </tr>\n",
              "    <tr>\n",
              "      <th>1</th>\n",
              "      <td>0.177381</td>\n",
              "      <td>-0.199371</td>\n",
              "      <td>0.487501</td>\n",
              "      <td>0.381397</td>\n",
              "      <td>-0.270957</td>\n",
              "      <td>-0.235752</td>\n",
              "      <td>2.701543</td>\n",
              "      <td>-0.321304</td>\n",
              "      <td>-0.251197</td>\n",
              "      <td>-0.204336</td>\n",
              "      <td>1.0</td>\n",
              "      <td>0.0</td>\n",
              "      <td>0.0</td>\n",
              "      <td>0.0</td>\n",
              "      <td>1.0</td>\n",
              "      <td>0.0</td>\n",
              "      <td>0.0</td>\n",
              "      <td>1.0</td>\n",
              "      <td>1.0</td>\n",
              "      <td>2.0</td>\n",
              "      <td>2.0</td>\n",
              "      <td>2.0</td>\n",
              "    </tr>\n",
              "    <tr>\n",
              "      <th>2</th>\n",
              "      <td>0.070379</td>\n",
              "      <td>-0.243790</td>\n",
              "      <td>0.340697</td>\n",
              "      <td>0.252573</td>\n",
              "      <td>-0.270957</td>\n",
              "      <td>-0.235752</td>\n",
              "      <td>2.060290</td>\n",
              "      <td>-0.321304</td>\n",
              "      <td>-0.251197</td>\n",
              "      <td>-0.245633</td>\n",
              "      <td>1.0</td>\n",
              "      <td>0.0</td>\n",
              "      <td>0.0</td>\n",
              "      <td>0.0</td>\n",
              "      <td>1.0</td>\n",
              "      <td>0.0</td>\n",
              "      <td>0.0</td>\n",
              "      <td>1.0</td>\n",
              "      <td>1.0</td>\n",
              "      <td>2.0</td>\n",
              "      <td>2.0</td>\n",
              "      <td>1.0</td>\n",
              "    </tr>\n",
              "    <tr>\n",
              "      <th>3</th>\n",
              "      <td>0.070379</td>\n",
              "      <td>-0.243790</td>\n",
              "      <td>0.340697</td>\n",
              "      <td>0.252573</td>\n",
              "      <td>-0.270957</td>\n",
              "      <td>-0.235752</td>\n",
              "      <td>2.060290</td>\n",
              "      <td>-0.321304</td>\n",
              "      <td>0.298711</td>\n",
              "      <td>-0.245633</td>\n",
              "      <td>1.0</td>\n",
              "      <td>0.0</td>\n",
              "      <td>0.0</td>\n",
              "      <td>0.0</td>\n",
              "      <td>1.0</td>\n",
              "      <td>0.0</td>\n",
              "      <td>1.0</td>\n",
              "      <td>1.0</td>\n",
              "      <td>1.0</td>\n",
              "      <td>2.0</td>\n",
              "      <td>2.0</td>\n",
              "      <td>3.0</td>\n",
              "    </tr>\n",
              "    <tr>\n",
              "      <th>4</th>\n",
              "      <td>0.070379</td>\n",
              "      <td>-0.243790</td>\n",
              "      <td>0.340697</td>\n",
              "      <td>0.252573</td>\n",
              "      <td>-0.270957</td>\n",
              "      <td>-0.235752</td>\n",
              "      <td>2.060290</td>\n",
              "      <td>-0.321304</td>\n",
              "      <td>0.298711</td>\n",
              "      <td>-0.245633</td>\n",
              "      <td>1.0</td>\n",
              "      <td>0.0</td>\n",
              "      <td>0.0</td>\n",
              "      <td>0.0</td>\n",
              "      <td>1.0</td>\n",
              "      <td>0.0</td>\n",
              "      <td>1.0</td>\n",
              "      <td>1.0</td>\n",
              "      <td>1.0</td>\n",
              "      <td>2.0</td>\n",
              "      <td>2.0</td>\n",
              "      <td>2.0</td>\n",
              "    </tr>\n",
              "  </tbody>\n",
              "</table>\n",
              "</div>\n",
              "      <button class=\"colab-df-convert\" onclick=\"convertToInteractive('df-4edcc76e-9207-47df-b8e3-ed6f3ea2ac70')\"\n",
              "              title=\"Convert this dataframe to an interactive table.\"\n",
              "              style=\"display:none;\">\n",
              "        \n",
              "  <svg xmlns=\"http://www.w3.org/2000/svg\" height=\"24px\"viewBox=\"0 0 24 24\"\n",
              "       width=\"24px\">\n",
              "    <path d=\"M0 0h24v24H0V0z\" fill=\"none\"/>\n",
              "    <path d=\"M18.56 5.44l.94 2.06.94-2.06 2.06-.94-2.06-.94-.94-2.06-.94 2.06-2.06.94zm-11 1L8.5 8.5l.94-2.06 2.06-.94-2.06-.94L8.5 2.5l-.94 2.06-2.06.94zm10 10l.94 2.06.94-2.06 2.06-.94-2.06-.94-.94-2.06-.94 2.06-2.06.94z\"/><path d=\"M17.41 7.96l-1.37-1.37c-.4-.4-.92-.59-1.43-.59-.52 0-1.04.2-1.43.59L10.3 9.45l-7.72 7.72c-.78.78-.78 2.05 0 2.83L4 21.41c.39.39.9.59 1.41.59.51 0 1.02-.2 1.41-.59l7.78-7.78 2.81-2.81c.8-.78.8-2.07 0-2.86zM5.41 20L4 18.59l7.72-7.72 1.47 1.35L5.41 20z\"/>\n",
              "  </svg>\n",
              "      </button>\n",
              "      \n",
              "  <style>\n",
              "    .colab-df-container {\n",
              "      display:flex;\n",
              "      flex-wrap:wrap;\n",
              "      gap: 12px;\n",
              "    }\n",
              "\n",
              "    .colab-df-convert {\n",
              "      background-color: #E8F0FE;\n",
              "      border: none;\n",
              "      border-radius: 50%;\n",
              "      cursor: pointer;\n",
              "      display: none;\n",
              "      fill: #1967D2;\n",
              "      height: 32px;\n",
              "      padding: 0 0 0 0;\n",
              "      width: 32px;\n",
              "    }\n",
              "\n",
              "    .colab-df-convert:hover {\n",
              "      background-color: #E2EBFA;\n",
              "      box-shadow: 0px 1px 2px rgba(60, 64, 67, 0.3), 0px 1px 3px 1px rgba(60, 64, 67, 0.15);\n",
              "      fill: #174EA6;\n",
              "    }\n",
              "\n",
              "    [theme=dark] .colab-df-convert {\n",
              "      background-color: #3B4455;\n",
              "      fill: #D2E3FC;\n",
              "    }\n",
              "\n",
              "    [theme=dark] .colab-df-convert:hover {\n",
              "      background-color: #434B5C;\n",
              "      box-shadow: 0px 1px 3px 1px rgba(0, 0, 0, 0.15);\n",
              "      filter: drop-shadow(0px 1px 2px rgba(0, 0, 0, 0.3));\n",
              "      fill: #FFFFFF;\n",
              "    }\n",
              "  </style>\n",
              "\n",
              "      <script>\n",
              "        const buttonEl =\n",
              "          document.querySelector('#df-4edcc76e-9207-47df-b8e3-ed6f3ea2ac70 button.colab-df-convert');\n",
              "        buttonEl.style.display =\n",
              "          google.colab.kernel.accessAllowed ? 'block' : 'none';\n",
              "\n",
              "        async function convertToInteractive(key) {\n",
              "          const element = document.querySelector('#df-4edcc76e-9207-47df-b8e3-ed6f3ea2ac70');\n",
              "          const dataTable =\n",
              "            await google.colab.kernel.invokeFunction('convertToInteractive',\n",
              "                                                     [key], {});\n",
              "          if (!dataTable) return;\n",
              "\n",
              "          const docLinkHtml = 'Like what you see? Visit the ' +\n",
              "            '<a target=\"_blank\" href=https://colab.research.google.com/notebooks/data_table.ipynb>data table notebook</a>'\n",
              "            + ' to learn more about interactive tables.';\n",
              "          element.innerHTML = '';\n",
              "          dataTable['output_type'] = 'display_data';\n",
              "          await google.colab.output.renderOutput(dataTable, element);\n",
              "          const docLink = document.createElement('div');\n",
              "          docLink.innerHTML = docLinkHtml;\n",
              "          element.appendChild(docLink);\n",
              "        }\n",
              "      </script>\n",
              "    </div>\n",
              "  </div>\n",
              "  "
            ]
          },
          "metadata": {},
          "execution_count": 5
        }
      ]
    },
    {
      "cell_type": "code",
      "source": [
        "customer_base=customer_base.drop(['CA','Card', 'Insurance','Investment', \"Mortgage\",\"Primary\",'CA_holders', 'Digital'],1)"
      ],
      "metadata": {
        "colab": {
          "base_uri": "https://localhost:8080/"
        },
        "id": "fVpyWd36lOJb",
        "outputId": "4c12c0f4-fae5-41d9-9a72-6edc9388c92f"
      },
      "execution_count": null,
      "outputs": [
        {
          "output_type": "stream",
          "name": "stderr",
          "text": [
            "/usr/local/lib/python3.7/dist-packages/ipykernel_launcher.py:1: FutureWarning: In a future version of pandas all arguments of DataFrame.drop except for the argument 'labels' will be keyword-only\n",
            "  \"\"\"Entry point for launching an IPython kernel.\n"
          ]
        }
      ]
    },
    {
      "cell_type": "code",
      "source": [
        "#Performing a factoribility test (Bartlett)\n",
        "\n",
        "from factor_analyzer.factor_analyzer import calculate_bartlett_sphericity\n",
        "chi_square_value,p_value=calculate_bartlett_sphericity(customer_base)\n",
        "chi_square_value, p_value"
      ],
      "metadata": {
        "colab": {
          "base_uri": "https://localhost:8080/"
        },
        "id": "m3HMm_XMge2P",
        "outputId": "73cf7bb8-96d2-4afb-bf49-1b40b8a5303a"
      },
      "execution_count": null,
      "outputs": [
        {
          "output_type": "execute_result",
          "data": {
            "text/plain": [
              "(401323.50955611246, 0.0)"
            ]
          },
          "metadata": {},
          "execution_count": 7
        }
      ]
    },
    {
      "cell_type": "markdown",
      "source": [
        "In this Bartlett ’s test, the p-value is 0. The test was statistically significant, indicating that the observed correlation matrix is not an identity matrix.Bartlett’s test of sphericity checks whether or not the observed variables intercorrelate at all using the observed correlation matrix against the identity matrix. \n",
        "\n",
        "\n"
      ],
      "metadata": {
        "id": "Ksuc-r1GhT2a"
      }
    },
    {
      "cell_type": "code",
      "source": [
        "from factor_analyzer.factor_analyzer import calculate_kmo\n",
        "kmo_all,kmo_model=calculate_kmo(customer_base)"
      ],
      "metadata": {
        "id": "CYoKW97qhRiB"
      },
      "execution_count": null,
      "outputs": []
    },
    {
      "cell_type": "code",
      "source": [
        "kmo_model"
      ],
      "metadata": {
        "colab": {
          "base_uri": "https://localhost:8080/"
        },
        "id": "1u5BCIS4hnuY",
        "outputId": "72dbb06d-3150-49e8-c78f-a65abe794de5"
      },
      "execution_count": null,
      "outputs": [
        {
          "output_type": "execute_result",
          "data": {
            "text/plain": [
              "0.7834011314924636"
            ]
          },
          "metadata": {},
          "execution_count": 9
        }
      ]
    },
    {
      "cell_type": "markdown",
      "source": [
        "Value of KMO less than 0.6 is considered inadequate."
      ],
      "metadata": {
        "id": "voj97VCphrfz"
      }
    },
    {
      "cell_type": "code",
      "source": [
        "# Create factor analysis object and perform factor analysis\n",
        "fa = FactorAnalyzer()\n",
        "\n",
        "fa.fit(customer_base)\n",
        "eigen_values, vectors = fa.get_eigenvalues()\n",
        "# fa.analyze(customer_base, 22, rotation=None)\n",
        "# # Check Eigenvalues\n",
        "# ev, v = fa.get_eigenvalues()\n",
        "# ev"
      ],
      "metadata": {
        "id": "xHkmo417hxmR"
      },
      "execution_count": null,
      "outputs": []
    },
    {
      "cell_type": "code",
      "source": [
        "eigen_values"
      ],
      "metadata": {
        "colab": {
          "base_uri": "https://localhost:8080/"
        },
        "id": "G_V9B_FCi0Gu",
        "outputId": "977411b0-8a45-4ad0-db67-13eb53aa2a4c"
      },
      "execution_count": null,
      "outputs": [
        {
          "output_type": "execute_result",
          "data": {
            "text/plain": [
              "array([4.90297905, 1.426031  , 1.00001584, 1.00000351, 1.00000037,\n",
              "       1.00000004, 0.95216376, 0.90705316, 0.65935912, 0.47409139,\n",
              "       0.33836418, 0.18241296, 0.09136434, 0.06616128])"
            ]
          },
          "metadata": {},
          "execution_count": 11
        }
      ]
    },
    {
      "cell_type": "code",
      "source": [
        "vectors"
      ],
      "metadata": {
        "colab": {
          "base_uri": "https://localhost:8080/"
        },
        "id": "vWsNo-oUi2eD",
        "outputId": "4c1369be-9396-4e64-c418-d42881937331"
      },
      "execution_count": null,
      "outputs": [
        {
          "output_type": "execute_result",
          "data": {
            "text/plain": [
              "array([ 4.54941083e+00,  1.05297634e+00,  6.84093725e-01,  2.01484579e-01,\n",
              "        3.87223028e-02,  1.03116164e-04,  1.98632017e-06,  1.50953367e-06,\n",
              "       -4.53408891e-06, -7.62828910e-03, -8.64929853e-02, -1.10304975e-01,\n",
              "       -2.62415297e-01, -3.67334877e-01])"
            ]
          },
          "metadata": {},
          "execution_count": 12
        }
      ]
    },
    {
      "cell_type": "code",
      "source": [
        "# Create scree plot using matplotlib\n",
        "plt.scatter(range(1,customer_base.shape[1]+1),eigen_values)\n",
        "plt.plot(range(1,customer_base.shape[1]+1),eigen_values)\n",
        "plt.title('Scree Plot for the United Kingdom')\n",
        "plt.xlabel('Factor Number')\n",
        "plt.ylabel('Eigenvalue')\n",
        "plt.grid()\n",
        "plt.show()"
      ],
      "metadata": {
        "colab": {
          "base_uri": "https://localhost:8080/",
          "height": 295
        },
        "id": "bAGan8yLiawl",
        "outputId": "79f61eff-898c-4e8b-c416-592059ff33ee"
      },
      "execution_count": null,
      "outputs": [
        {
          "output_type": "display_data",
          "data": {
            "text/plain": [
              "<Figure size 432x288 with 1 Axes>"
            ],
            "image/png": "[encoded data removed]"
          },
          "metadata": {
            "needs_background": "light"
          }
        }
      ]
    },
    {
      "cell_type": "markdown",
      "source": [
        "The scree plot method draws a straight line for each factor and its eigenvalues. Number eigenvalues greater than one considered as the number of factors."
      ],
      "metadata": {
        "id": "lPzdegS4j2Gt"
      }
    },
    {
      "cell_type": "code",
      "source": [
        "# Create factor analysis object and perform factor analysis\n",
        "fa = FactorAnalyzer(n_factors=3,rotation='varimax')\n",
        "fa.fit(customer_base)"
      ],
      "metadata": {
        "colab": {
          "base_uri": "https://localhost:8080/"
        },
        "id": "LH-0IdSGj7iI",
        "outputId": "dd4ebd79-6fbd-4054-fa9d-df3f76ba05bd"
      },
      "execution_count": null,
      "outputs": [
        {
          "output_type": "execute_result",
          "data": {
            "text/plain": [
              "FactorAnalyzer(rotation='varimax', rotation_kwargs={})"
            ]
          },
          "metadata": {},
          "execution_count": 14
        }
      ]
    },
    {
      "cell_type": "code",
      "source": [
        "factor_df=pd.DataFrame(fa.loadings_,index=customer_base.columns)\n",
        "print(factor_df)"
      ],
      "metadata": {
        "colab": {
          "base_uri": "https://localhost:8080/"
        },
        "id": "XaSij1qxkUij",
        "outputId": "d2913a0c-3c56-4223-f767-53ea31eb70a3"
      },
      "execution_count": null,
      "outputs": [
        {
          "output_type": "stream",
          "name": "stdout",
          "text": [
            "                      0         1         2\n",
            "Numcust        0.907881  0.140185  0.379197\n",
            "TRB            0.427081  0.638484  0.515748\n",
            "Primary_cust   0.609569  0.426247  0.231561\n",
            "Digital_cust   0.607462  0.107764  0.262370\n",
            "Card_holders   0.869990  0.053980  0.138109\n",
            "Ins_holders   -0.182978 -0.114010 -0.160331\n",
            "Inv_holders    0.039412  0.075220  0.756950\n",
            "Mort_holders   0.573086  0.103933  0.532024\n",
            "Revenue        0.421446  0.865507  0.321830\n",
            "International -0.000079 -0.000231 -0.000033\n",
            "Proposition   -0.230035  0.484729  0.004558\n",
            "Tenure         0.000437  0.000043 -0.000213\n",
            "Age           -0.000144 -0.000189 -0.000674\n",
            "NPS           -0.000280 -0.000689 -0.000734\n"
          ]
        }
      ]
    },
    {
      "cell_type": "code",
      "source": [
        "fa.get_factor_variance()"
      ],
      "metadata": {
        "colab": {
          "base_uri": "https://localhost:8080/"
        },
        "id": "O1ThI-54mvnK",
        "outputId": "240f169d-beaf-41ee-ed7f-db88b49b3ec8"
      },
      "execution_count": null,
      "outputs": [
        {
          "output_type": "execute_result",
          "data": {
            "text/plain": [
              "(array([3.09810917, 1.63705077, 1.53664446]),\n",
              " array([0.22129351, 0.1169322 , 0.10976032]),\n",
              " array([0.22129351, 0.33822571, 0.44798603]))"
            ]
          },
          "metadata": {},
          "execution_count": 16
        }
      ]
    },
    {
      "cell_type": "markdown",
      "source": [
        ""
      ],
      "metadata": {
        "id": "8X-t6xKomrSp"
      }
    }
  ]
}